{
 "cells": [
  {
   "cell_type": "code",
   "execution_count": 1,
   "id": "fa89d38f",
   "metadata": {},
   "outputs": [],
   "source": [
    "import pandas as pd\n",
    "\n",
    "# 1. 보이스피싱 대화 불러오기\n",
    "#df_phish = pd.read_csv(\"phishing_total_0716_1345.csv\")\n",
    "df_phish = pd.read_csv(\"C:/Users/user/Desktop/보이스피싱/woogawooga_project/dataset/phishing_total_0716_1345.csv\")\n",
    "df_phish[\"label\"] = 1\n",
    "\n",
    "# 2. 일반 대화 불러오기\n",
    "#df_norm = pd.read_csv(\"normal_비율맞춘_학습데이터셋2.csv\")\n",
    "df_norm = pd.read_csv(\"C:/Users/user/Desktop/보이스피싱/woogawooga_project/dataset/normal_비율맞춘_학습데이터셋2.csv\")\n",
    "df_norm[\"label\"] = 0\n",
    "\n",
    "# 3. 공통 전처리 함수\n",
    "def make_sequence_df(df, text_col=\"text\"):\n",
    "    return (\n",
    "        df.sort_values(by=[\"file_id\", \"speaker\"])\n",
    "            .groupby([\"file_id\", \"label\"])\n",
    "            .agg({text_col: list})\n",
    "            .reset_index()\n",
    "            .rename(columns={text_col: \"text_sequence\"})\n",
    "    )\n",
    "\n",
    "# 4. 시퀀스 형태로 변환\n",
    "df_seq_phish = make_sequence_df(df_phish)\n",
    "df_seq_norm = make_sequence_df(df_norm)\n",
    "\n",
    "# 5. 합치기\n",
    "df_total = pd.concat([df_seq_phish, df_seq_norm], ignore_index=True)\n",
    "df_total = df_total.sample(frac=1, random_state=42).reset_index(drop=True)\n",
    "\n",
    "# 6. 저장\n",
    "df_total.to_pickle(\"dataset_dl_v1.pkl\")   # 딥러닝 학습용으로 피클 저장 권장\n"
   ]
  },
  {
   "cell_type": "code",
   "execution_count": null,
   "id": "7248060b",
   "metadata": {},
   "outputs": [],
   "source": []
  }
 ],
 "metadata": {
  "kernelspec": {
   "display_name": "woogawooga-project",
   "language": "python",
   "name": "python3"
  },
  "language_info": {
   "codemirror_mode": {
    "name": "ipython",
    "version": 3
   },
   "file_extension": ".py",
   "mimetype": "text/x-python",
   "name": "python",
   "nbconvert_exporter": "python",
   "pygments_lexer": "ipython3",
   "version": "3.10.16"
  }
 },
 "nbformat": 4,
 "nbformat_minor": 5
}
