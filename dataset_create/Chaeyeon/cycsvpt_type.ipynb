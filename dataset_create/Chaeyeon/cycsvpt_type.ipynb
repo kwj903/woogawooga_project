{
 "cells": [
  {
   "cell_type": "code",
   "execution_count": 3,
   "id": "8d34bb29",
   "metadata": {},
   "outputs": [],
   "source": [
    "import pandas as pd \n",
    "df= pd.read_csv(\"C:/Users/user/Downloads/0708/woogawooga_project/dataset_create/Chaeyeon/phishing_total_sorted.csv\")"
   ]
  },
  {
   "cell_type": "code",
   "execution_count": 4,
   "id": "d45d1a57",
   "metadata": {},
   "outputs": [],
   "source": [
    "df.loc[\n",
    "    df['phishing_type'].str.contains(r'가장 적합한 유형은 \"대출빙자형\"', na=False),\n",
    "    'phishing_type'\n",
    "] = '대출빙자형'"
   ]
  },
  {
   "cell_type": "code",
   "execution_count": 5,
   "id": "48759727",
   "metadata": {},
   "outputs": [],
   "source": [
    "df.loc[\n",
    "    df['phishing_type'].str.contains(r'유형을 결정하기 어렵습니다', na=False),\n",
    "    'phishing_type'\n",
    "] = '불명'"
   ]
  },
  {
   "cell_type": "code",
   "execution_count": null,
   "id": "c29ffdc6",
   "metadata": {},
   "outputs": [
    {
     "ename": "",
     "evalue": "",
     "output_type": "error",
     "traceback": [
      "\u001b[1;31mThe Kernel crashed while executing code in the current cell or a previous cell. \n",
      "\u001b[1;31mPlease review the code in the cell(s) to identify a possible cause of the failure. \n",
      "\u001b[1;31mClick <a href='https://aka.ms/vscodeJupyterKernelCrash'>here</a> for more info. \n",
      "\u001b[1;31mView Jupyter <a href='command:jupyter.viewOutput'>log</a> for further details."
     ]
    }
   ],
   "source": [
    "df.to_csv(\"phishing_total_sorted_typed1.csv\", index=False, encoding=\"utf-8-sig\")"
   ]
  },
  {
   "cell_type": "code",
   "execution_count": null,
   "id": "a308c120",
   "metadata": {},
   "outputs": [],
   "source": []
  }
 ],
 "metadata": {
  "kernelspec": {
   "display_name": "woogawooga-project",
   "language": "python",
   "name": "python3"
  },
  "language_info": {
   "codemirror_mode": {
    "name": "ipython",
    "version": 3
   },
   "file_extension": ".py",
   "mimetype": "text/x-python",
   "name": "python",
   "nbconvert_exporter": "python",
   "pygments_lexer": "ipython3",
   "version": "3.10.16"
  }
 },
 "nbformat": 4,
 "nbformat_minor": 5
}
