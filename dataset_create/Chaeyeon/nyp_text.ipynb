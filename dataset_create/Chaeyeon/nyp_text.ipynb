{
 "cells": [
  {
   "cell_type": "code",
   "execution_count": 2,
   "id": "1594eefa",
   "metadata": {},
   "outputs": [],
   "source": [
    "import pandas as pd"
   ]
  },
  {
   "cell_type": "code",
   "execution_count": 3,
   "id": "a8c137c4",
   "metadata": {},
   "outputs": [],
   "source": [
    "df= pd.read_csv('C:/Users/user/Downloads/0708/woogawooga_project/dataset_create/Chaeyeon/일반통화대화통합.csv')"
   ]
  },
  {
   "cell_type": "code",
   "execution_count": 4,
   "id": "4a74577d",
   "metadata": {},
   "outputs": [],
   "source": [
    "from konlpy.tag import Okt\n",
    "\n",
    "okt = Okt()\n",
    "\n",
    "#토큰화 \n",
    "def tokenize_okt(text):\n",
    "    if pd.isnull(text):\n",
    "        return []\n",
    "    morphs = okt.pos(text, stem=True) #동사, 형용사는 어간 형태로 반환\n",
    "    target_pos = {\"Noun\", \"Verb\", \"Adjective\"}\n",
    "    result = [word for word, pos in morphs if pos in target_pos] #명사 동사 형용사만 추출\n",
    "    return result\n",
    "\n",
    "df[\"tokens\"] = df[\"text\"].apply(tokenize_okt)"
   ]
  },
  {
   "cell_type": "code",
   "execution_count": 5,
   "id": "ce9edfd6",
   "metadata": {},
   "outputs": [
    {
     "name": "stdout",
     "output_type": "stream",
     "text": [
      "하다: 148246\n",
      "네: 86406\n",
      "되다: 61282\n",
      "그: 49972\n",
      "있다: 48927\n",
      "거: 46988\n",
      "그렇다: 37597\n",
      "확인: 28293\n",
      "지금: 23999\n",
      "저희: 23479\n",
      "이제: 20711\n",
      "같다: 20441\n",
      "이: 19339\n",
      "교재: 18810\n",
      "제: 18573\n",
      "드리다: 18487\n",
      "안: 18388\n",
      "뭐: 18121\n",
      "환불: 17767\n",
      "어떻다: 17491\n"
     ]
    }
   ],
   "source": [
    "from collections import Counter\n",
    "\n",
    "# 모든 토큰 리스트 합치기\n",
    "all_tokens = [token for tokens in df['tokens'] for token in tokens]\n",
    "\n",
    "# 등장 빈도수 계산\n",
    "token_counts = Counter(all_tokens)\n",
    "\n",
    "# 상위 20개 보기\n",
    "top_20 = token_counts.most_common(20)\n",
    "for word, count in top_20:\n",
    "    print(f\"{word}: {count}\")"
   ]
  },
  {
   "cell_type": "code",
   "execution_count": 6,
   "id": "63cf358d",
   "metadata": {},
   "outputs": [],
   "source": [
    "import pandas as pd\n",
    "from collections import Counter\n",
    "\n",
    "# 1. 모든 토큰 펼치기 (리스트 안의 리스트 → 하나의 리스트로)\n",
    "all_tokens = df[\"tokens\"].explode().dropna().tolist()\n",
    "\n",
    "# 2. 단어 빈도수 계산\n",
    "token_counts = Counter(all_tokens)\n",
    "\n",
    "# 3. 상위 700개 키워드 추출\n",
    "top_700 = token_counts.most_common(700)\n",
    "\n",
    "# 4. 데이터프레임으로 변환\n",
    "top_700_df = pd.DataFrame(top_700, columns=[\"word\", \"count\"])\n",
    "\n",
    "# 5. CSV로 저장 (로컬 저장 경로 지정 가능)\n",
    "top_700_df.to_csv(\"top_700_okt_keywords.csv\", index=False, encoding=\"utf-8-sig\")"
   ]
  },
  {
   "cell_type": "code",
   "execution_count": null,
   "id": "95036e2d",
   "metadata": {},
   "outputs": [],
   "source": []
  }
 ],
 "metadata": {
  "kernelspec": {
   "display_name": "woogawooga-project",
   "language": "python",
   "name": "python3"
  },
  "language_info": {
   "codemirror_mode": {
    "name": "ipython",
    "version": 3
   },
   "file_extension": ".py",
   "mimetype": "text/x-python",
   "name": "python",
   "nbconvert_exporter": "python",
   "pygments_lexer": "ipython3",
   "version": "3.10.16"
  }
 },
 "nbformat": 4,
 "nbformat_minor": 5
}
