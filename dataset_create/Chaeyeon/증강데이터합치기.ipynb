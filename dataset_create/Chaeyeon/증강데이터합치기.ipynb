{
 "cells": [
  {
   "cell_type": "code",
   "execution_count": null,
   "id": "e2ec461a",
   "metadata": {},
   "outputs": [],
   "source": [
    "import pandas as pd\n",
    "\n",
    "# CSV 파일 경로\n",
    "file1 = \"C:/Users/user/Downloads/0708/woogawooga_project/dataset_create/Chaeyeon/back_translated_cy1.csv\"\n",
    "file2 = \"C:/Users/user/Downloads/0708/woogawooga_project/dataset_create/Chaeyeon/back_translated_cy3.csv\"\n",
    "\n",
    "\n",
    "# CSV 파일 불러오기\n",
    "df1 = pd.read_csv(file1)\n",
    "df2 = pd.read_csv(file2)\n",
    "\n",
    "# 행 방향으로 병합 (순서 유지)\n",
    "df_combined = pd.concat([df1, df2], ignore_index=True)\n",
    "\n",
    "# 결과 저장 (선택 사항)\n",
    "\n",
    "df_combined.to_csv(\"back_translated_cy_merged.csv\", index=False)"
   ]
  },
  {
   "cell_type": "code",
   "execution_count": 1,
   "id": "4f1c06e7",
   "metadata": {},
   "outputs": [],
   "source": [
    "import pandas as pd\n",
    "\n",
    "# CSV 파일 경로\n",
    "file1 = \"C:/Users/user/Downloads/0708/woogawooga_project/dataset_create/Chaeyeon/back_translated_cy_merged.csv\"\n",
    "df= pd.read_csv(file1)\n",
    "\n"
   ]
  },
  {
   "cell_type": "code",
   "execution_count": 2,
   "id": "191fbb7c",
   "metadata": {},
   "outputs": [],
   "source": [
    "df.drop(columns=['text'], inplace=True)"
   ]
  },
  {
   "cell_type": "code",
   "execution_count": 3,
   "id": "31d08ec2",
   "metadata": {},
   "outputs": [],
   "source": [
    "df.rename(columns={'back_translated': 'text'}, inplace=True)"
   ]
  },
  {
   "cell_type": "code",
   "execution_count": 4,
   "id": "4adbdcfc",
   "metadata": {},
   "outputs": [],
   "source": [
    "df.to_csv(\"cy_backt.csv\", index=False)"
   ]
  },
  {
   "cell_type": "code",
   "execution_count": 11,
   "id": "3aa18343",
   "metadata": {},
   "outputs": [],
   "source": [
    "import pandas as pd\n",
    "\n",
    "# CSV 불러오기\n",
    "df = pd.read_csv(\"C:/Users/user/Downloads/0708/woogawooga_project/dataset/기관사칭형_500증강(독일)_dataset.csv\")\n",
    "\n",
    "# 'file_name' 열의 값에서 '_en' → '_ge'로 변경\n",
    "df['file_name'] = df['file_name'].str.replace(r'_en$', '_ge', regex=True)\n",
    "\n",
    "# 결과 저장 (선택 사항)\n",
    "df.to_csv(\"기관사칭형_(수정)독일500증강_dataset.csv\", index=False)\n"
   ]
  },
  {
   "cell_type": "code",
   "execution_count": 18,
   "id": "0d55c037",
   "metadata": {},
   "outputs": [],
   "source": [
    "file1 = r\"C:/Users/user/Downloads/0708/woogawooga_project/dataset_create/Chaeyeon/cy_backt.csv\"\n",
    "file2 = r\"C:/Users/user/Downloads/0708/woogawooga_project\\dataset/augmented_data.csv\"\n",
    "file3 = r\"C:/Users/user/Downloads/0708/woogawooga_project\\dataset_create/Chaeyeon/기관사칭형_(수정)독일500증강_dataset.csv\"\n",
    "file4 = r\"C:/Users/user/Downloads/0708/woogawooga_project\\dataset/기관사칭형_en_dataset.csv\"\n",
    "file5 = r\"C:/Users/user/Downloads/0708/woogawooga_project\\dataset/대출빙자형_역번역_독일어150개.csv\"\n",
    "file6 = r\"C:/Users/user/Downloads/0708/woogawooga_project\\dataset/대출빙자형_역번역_영어.csv\"\n",
    "file7 = r\"C:/Users/user/Downloads/0708/woogawooga_project\\dataset/대출빙자형_역번역_중국어.csv\"\n"
   ]
  },
  {
   "cell_type": "code",
   "execution_count": 19,
   "id": "42bebaf0",
   "metadata": {},
   "outputs": [],
   "source": [
    "# CSV 파일 불러오기\n",
    "df1 = pd.read_csv(file1)\n",
    "df2 = pd.read_csv(file2)\n",
    "df3 = pd.read_csv(file3)\n",
    "df4 = pd.read_csv(file4)\n",
    "df5 = pd.read_csv(file5)\n",
    "df6 = pd.read_csv(file6)\n",
    "df7 = pd.read_csv(file7)\n",
    "\n",
    "# 행 방향으로 병합 (순서 유지)\n",
    "df_combined = pd.concat([df1, df2, df3, df4,df5, df6, df7], ignore_index=True)\n",
    "\n",
    "# 결과 저장 (선택 사항)\n",
    "\n",
    "df_combined.to_csv(\"back_t_merged0715_1705.csv\", index=False)"
   ]
  },
  {
   "cell_type": "code",
   "execution_count": 21,
   "id": "28b0edcb",
   "metadata": {},
   "outputs": [
    {
     "data": {
      "text/plain": [
       "3478"
      ]
     },
     "execution_count": 21,
     "metadata": {},
     "output_type": "execute_result"
    }
   ],
   "source": [
    "df_combined['file_name'].nunique()"
   ]
  },
  {
   "cell_type": "code",
   "execution_count": 1,
   "id": "99b55f94",
   "metadata": {},
   "outputs": [],
   "source": [
    "import pandas as pd \n",
    "\n",
    "df1= pd.read_csv('C:/Users/user/Downloads/0708/woogawooga_project/dataset_create/Chaeyeon/back_t_merged0715_1705.csv')\n",
    "df2= pd.read_csv('C:/Users/user/Downloads/0708/woogawooga_project/dataset/기관사칭형_증강_중국어역번역.csv')"
   ]
  },
  {
   "cell_type": "code",
   "execution_count": 2,
   "id": "163e8c4a",
   "metadata": {},
   "outputs": [],
   "source": [
    "# 행 방향으로 병합 (순서 유지)\n",
    "df_combined = pd.concat([df1, df2], ignore_index=True)\n",
    "\n",
    "# 결과 저장 (선택 사항)\n",
    "\n",
    "df_combined.to_csv(\"back_t_merged0716_0932.csv\", index=False)"
   ]
  },
  {
   "cell_type": "code",
   "execution_count": 3,
   "id": "1d5c8f07",
   "metadata": {},
   "outputs": [
    {
     "data": {
      "text/plain": [
       "4339"
      ]
     },
     "execution_count": 3,
     "metadata": {},
     "output_type": "execute_result"
    }
   ],
   "source": [
    "df_combined['file_name'].nunique()"
   ]
  },
  {
   "cell_type": "code",
   "execution_count": 5,
   "id": "670c3eea",
   "metadata": {},
   "outputs": [],
   "source": [
    "df2 = pd.read_csv('C:/Users/user/Downloads/0708/woogawooga_project/dataset/phishing_total.csv')\n",
    "\n",
    "# 행 방향으로 병합 (순서 유지)\n",
    "df_combined = pd.concat([df_combined, df2], ignore_index=True)\n",
    "\n",
    "# 결과 저장 (선택 사항)\n",
    "\n",
    "df_combined.to_csv(\"phishing_total_0716_0945.csv\", index=False)"
   ]
  },
  {
   "cell_type": "code",
   "execution_count": 6,
   "id": "cddfd1e0",
   "metadata": {},
   "outputs": [
    {
     "data": {
      "text/plain": [
       "6386"
      ]
     },
     "execution_count": 6,
     "metadata": {},
     "output_type": "execute_result"
    }
   ],
   "source": [
    "df_combined['file_name'].nunique()"
   ]
  },
  {
   "cell_type": "code",
   "execution_count": null,
   "id": "f17b3ca0",
   "metadata": {},
   "outputs": [],
   "source": []
  }
 ],
 "metadata": {
  "kernelspec": {
   "display_name": "woogawooga-project",
   "language": "python",
   "name": "python3"
  },
  "language_info": {
   "codemirror_mode": {
    "name": "ipython",
    "version": 3
   },
   "file_extension": ".py",
   "mimetype": "text/x-python",
   "name": "python",
   "nbconvert_exporter": "python",
   "pygments_lexer": "ipython3",
   "version": "3.10.16"
  }
 },
 "nbformat": 4,
 "nbformat_minor": 5
}
