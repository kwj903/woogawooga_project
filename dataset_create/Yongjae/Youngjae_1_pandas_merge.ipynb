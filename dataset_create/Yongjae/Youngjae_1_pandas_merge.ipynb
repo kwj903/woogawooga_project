{
 "cells": [
  {
   "cell_type": "code",
   "execution_count": 31,
   "id": "14082220",
   "metadata": {},
   "outputs": [],
   "source": [
    "import pandas as pd"
   ]
  },
  {
   "cell_type": "code",
   "execution_count": 32,
   "id": "64f361cb",
   "metadata": {},
   "outputs": [],
   "source": [
    "file1 = r'C:\\Users\\user\\Desktop\\woogawooga\\woogawooga_project\\dataset\\phishing_label_type_speaker_최종_결측제거.csv'\n",
    "file2 = r'C:\\Users\\user\\Desktop\\woogawooga\\woogawooga_project\\dataset\\csv_merged1.csv'"
   ]
  },
  {
   "cell_type": "code",
   "execution_count": 33,
   "id": "afb5e91b",
   "metadata": {},
   "outputs": [],
   "source": [
    "df1 = pd.read_csv(file1)\n",
    "df2 = pd.read_csv(file2)"
   ]
  },
  {
   "cell_type": "code",
   "execution_count": 34,
   "id": "dee0d99b",
   "metadata": {},
   "outputs": [
    {
     "name": "stdout",
     "output_type": "stream",
     "text": [
      "<class 'pandas.core.frame.DataFrame'>\n",
      "RangeIndex: 31377 entries, 0 to 31376\n",
      "Data columns (total 5 columns):\n",
      " #   Column         Non-Null Count  Dtype  \n",
      "---  ------         --------------  -----  \n",
      " 0   speaker        31377 non-null  int64  \n",
      " 1   text           31377 non-null  object \n",
      " 2   phishing_name  31377 non-null  object \n",
      " 3   phishing_type  31377 non-null  object \n",
      " 4   speaker_gpt    31377 non-null  float64\n",
      "dtypes: float64(1), int64(1), object(3)\n",
      "memory usage: 1.2+ MB\n"
     ]
    }
   ],
   "source": [
    "df1.info()"
   ]
  },
  {
   "cell_type": "code",
   "execution_count": 35,
   "id": "9f456cda",
   "metadata": {},
   "outputs": [
    {
     "name": "stdout",
     "output_type": "stream",
     "text": [
      "<class 'pandas.core.frame.DataFrame'>\n",
      "RangeIndex: 7327 entries, 0 to 7326\n",
      "Data columns (total 4 columns):\n",
      " #   Column         Non-Null Count  Dtype \n",
      "---  ------         --------------  ----- \n",
      " 0   file_name      7327 non-null   object\n",
      " 1   phishing_type  7327 non-null   object\n",
      " 2   speaker        7327 non-null   int64 \n",
      " 3   text           7327 non-null   object\n",
      "dtypes: int64(1), object(3)\n",
      "memory usage: 229.1+ KB\n"
     ]
    }
   ],
   "source": [
    "df2.info()"
   ]
  },
  {
   "cell_type": "code",
   "execution_count": 36,
   "id": "2c08e5a8",
   "metadata": {},
   "outputs": [],
   "source": [
    "df1 = df1.drop(columns=['speaker'])"
   ]
  },
  {
   "cell_type": "code",
   "execution_count": 37,
   "id": "24c1f6cf",
   "metadata": {},
   "outputs": [],
   "source": [
    "df1 = df1.rename(columns={'speaker_gpt': 'speaker'})"
   ]
  },
  {
   "cell_type": "code",
   "execution_count": 43,
   "id": "2eef214b",
   "metadata": {},
   "outputs": [],
   "source": [
    "df1 = df1.rename(columns={'phishing_name': 'file_name'})"
   ]
  },
  {
   "cell_type": "code",
   "execution_count": 38,
   "id": "c5f19831",
   "metadata": {},
   "outputs": [],
   "source": [
    "df1['speaker'] = df1['speaker'].astype('int64')"
   ]
  },
  {
   "cell_type": "code",
   "execution_count": 44,
   "id": "57c11d7e",
   "metadata": {},
   "outputs": [
    {
     "data": {
      "text/html": [
       "<div>\n",
       "<style scoped>\n",
       "    .dataframe tbody tr th:only-of-type {\n",
       "        vertical-align: middle;\n",
       "    }\n",
       "\n",
       "    .dataframe tbody tr th {\n",
       "        vertical-align: top;\n",
       "    }\n",
       "\n",
       "    .dataframe thead th {\n",
       "        text-align: right;\n",
       "    }\n",
       "</style>\n",
       "<table border=\"1\" class=\"dataframe\">\n",
       "  <thead>\n",
       "    <tr style=\"text-align: right;\">\n",
       "      <th></th>\n",
       "      <th>text</th>\n",
       "      <th>file_name</th>\n",
       "      <th>phishing_type</th>\n",
       "      <th>speaker</th>\n",
       "    </tr>\n",
       "  </thead>\n",
       "  <tbody>\n",
       "    <tr>\n",
       "      <th>0</th>\n",
       "      <td>그 본인께서 직접 통장 계산한 사실은 없으신 거죠. 네, 그리고 저희가 김성태를 조...</td>\n",
       "      <td>phishing_1368</td>\n",
       "      <td>기관사칭형</td>\n",
       "      <td>0</td>\n",
       "    </tr>\n",
       "    <tr>\n",
       "      <th>1</th>\n",
       "      <td>평소에 안 지인이고 가 직접 통장 계설해서 김상택에게 판매했다고 진수하고 있는데. ...</td>\n",
       "      <td>phishing_1368</td>\n",
       "      <td>기관사칭형</td>\n",
       "      <td>1</td>\n",
       "    </tr>\n",
       "    <tr>\n",
       "      <th>2</th>\n",
       "      <td>아니요.</td>\n",
       "      <td>phishing_1368</td>\n",
       "      <td>기관사칭형</td>\n",
       "      <td>1</td>\n",
       "    </tr>\n",
       "    <tr>\n",
       "      <th>3</th>\n",
       "      <td>통장 본인께서 직접 해설해서 판매한 사실 전혀 없으신 거죠, 이 부분도 네, 예, ...</td>\n",
       "      <td>phishing_1368</td>\n",
       "      <td>기관사칭형</td>\n",
       "      <td>0</td>\n",
       "    </tr>\n",
       "    <tr>\n",
       "      <th>4</th>\n",
       "      <td>따로.</td>\n",
       "      <td>phishing_1368</td>\n",
       "      <td>기관사칭형</td>\n",
       "      <td>1</td>\n",
       "    </tr>\n",
       "  </tbody>\n",
       "</table>\n",
       "</div>"
      ],
      "text/plain": [
       "                                                text      file_name  \\\n",
       "0  그 본인께서 직접 통장 계산한 사실은 없으신 거죠. 네, 그리고 저희가 김성태를 조...  phishing_1368   \n",
       "1  평소에 안 지인이고 가 직접 통장 계설해서 김상택에게 판매했다고 진수하고 있는데. ...  phishing_1368   \n",
       "2                                               아니요.  phishing_1368   \n",
       "3  통장 본인께서 직접 해설해서 판매한 사실 전혀 없으신 거죠, 이 부분도 네, 예, ...  phishing_1368   \n",
       "4                                                따로.  phishing_1368   \n",
       "\n",
       "  phishing_type  speaker  \n",
       "0         기관사칭형        0  \n",
       "1         기관사칭형        1  \n",
       "2         기관사칭형        1  \n",
       "3         기관사칭형        0  \n",
       "4         기관사칭형        1  "
      ]
     },
     "execution_count": 44,
     "metadata": {},
     "output_type": "execute_result"
    }
   ],
   "source": [
    "df1.head()"
   ]
  },
  {
   "cell_type": "code",
   "execution_count": 40,
   "id": "69c7c71c",
   "metadata": {},
   "outputs": [
    {
     "data": {
      "text/html": [
       "<div>\n",
       "<style scoped>\n",
       "    .dataframe tbody tr th:only-of-type {\n",
       "        vertical-align: middle;\n",
       "    }\n",
       "\n",
       "    .dataframe tbody tr th {\n",
       "        vertical-align: top;\n",
       "    }\n",
       "\n",
       "    .dataframe thead th {\n",
       "        text-align: right;\n",
       "    }\n",
       "</style>\n",
       "<table border=\"1\" class=\"dataframe\">\n",
       "  <thead>\n",
       "    <tr style=\"text-align: right;\">\n",
       "      <th></th>\n",
       "      <th>file_name</th>\n",
       "      <th>phishing_type</th>\n",
       "      <th>speaker</th>\n",
       "      <th>text</th>\n",
       "    </tr>\n",
       "  </thead>\n",
       "  <tbody>\n",
       "    <tr>\n",
       "      <th>7322</th>\n",
       "      <td>phishing_1365</td>\n",
       "      <td>콜백스미싱형</td>\n",
       "      <td>1</td>\n",
       "      <td>됐어요. 안 해요. 못 믿겠어요.</td>\n",
       "    </tr>\n",
       "    <tr>\n",
       "      <th>7323</th>\n",
       "      <td>phishing_1366</td>\n",
       "      <td>가족지인사칭형</td>\n",
       "      <td>0</td>\n",
       "      <td>뭘 어떡해? 네가 지금 빠른 선택을 해요. 돈 주고 부인 찾을 때 경찰이 올 경우 ...</td>\n",
       "    </tr>\n",
       "    <tr>\n",
       "      <th>7324</th>\n",
       "      <td>phishing_1366</td>\n",
       "      <td>가족지인사칭형</td>\n",
       "      <td>1</td>\n",
       "      <td>선생님, 제 아내만 제발 살려주세요. 제발요. 제가 다 하겠습니다. 선생님 제발요!</td>\n",
       "    </tr>\n",
       "    <tr>\n",
       "      <th>7325</th>\n",
       "      <td>phishing_1366</td>\n",
       "      <td>가족지인사칭형</td>\n",
       "      <td>0</td>\n",
       "      <td>5월 초에 어디로 또 나간다면... (여행 계획을 언급하며) 알았어, 그러면 알 수...</td>\n",
       "    </tr>\n",
       "    <tr>\n",
       "      <th>7326</th>\n",
       "      <td>phishing_1367</td>\n",
       "      <td>콜백스미싱형</td>\n",
       "      <td>0</td>\n",
       "      <td>사용하는 앱 중에 하나 삭제해. 카카오톡이라고 그랬지? 꾹 눌러서 앱 자체를 폰에서...</td>\n",
       "    </tr>\n",
       "  </tbody>\n",
       "</table>\n",
       "</div>"
      ],
      "text/plain": [
       "          file_name phishing_type  speaker  \\\n",
       "7322  phishing_1365        콜백스미싱형        1   \n",
       "7323  phishing_1366       가족지인사칭형        0   \n",
       "7324  phishing_1366       가족지인사칭형        1   \n",
       "7325  phishing_1366       가족지인사칭형        0   \n",
       "7326  phishing_1367        콜백스미싱형        0   \n",
       "\n",
       "                                                   text  \n",
       "7322                                 됐어요. 안 해요. 못 믿겠어요.  \n",
       "7323  뭘 어떡해? 네가 지금 빠른 선택을 해요. 돈 주고 부인 찾을 때 경찰이 올 경우 ...  \n",
       "7324     선생님, 제 아내만 제발 살려주세요. 제발요. 제가 다 하겠습니다. 선생님 제발요!  \n",
       "7325  5월 초에 어디로 또 나간다면... (여행 계획을 언급하며) 알았어, 그러면 알 수...  \n",
       "7326  사용하는 앱 중에 하나 삭제해. 카카오톡이라고 그랬지? 꾹 눌러서 앱 자체를 폰에서...  "
      ]
     },
     "execution_count": 40,
     "metadata": {},
     "output_type": "execute_result"
    }
   ],
   "source": [
    "df2.tail()"
   ]
  },
  {
   "cell_type": "code",
   "execution_count": 41,
   "id": "d3545e0c",
   "metadata": {},
   "outputs": [],
   "source": [
    "# 예시: df1이 기존 데이터프레임, df2에서 마지막 번호 추출\n",
    "last_num_df2 = 1367  # df2의 마지막 번호\n",
    "\n",
    "# 기존 phishing_name의 고유값(대화 단위) 추출\n",
    "unique_names = df1['phishing_name'].unique()\n",
    "\n",
    "# 새로운 번호 매핑 생성\n",
    "new_numbers = range(last_num_df2 + 1, last_num_df2 + 1 + len(unique_names))\n",
    "new_name_map = {old: f'phishing_{new}' for old, new in zip(unique_names, new_numbers)}\n",
    "\n",
    "# df1에 새로운 phishing_name 할당\n",
    "df1['phishing_name'] = df1['phishing_name'].map(new_name_map)\n"
   ]
  },
  {
   "cell_type": "code",
   "execution_count": 108,
   "id": "cd2df232",
   "metadata": {},
   "outputs": [
    {
     "data": {
      "text/html": [
       "<div>\n",
       "<style scoped>\n",
       "    .dataframe tbody tr th:only-of-type {\n",
       "        vertical-align: middle;\n",
       "    }\n",
       "\n",
       "    .dataframe tbody tr th {\n",
       "        vertical-align: top;\n",
       "    }\n",
       "\n",
       "    .dataframe thead th {\n",
       "        text-align: right;\n",
       "    }\n",
       "</style>\n",
       "<table border=\"1\" class=\"dataframe\">\n",
       "  <thead>\n",
       "    <tr style=\"text-align: right;\">\n",
       "      <th></th>\n",
       "      <th>text</th>\n",
       "      <th>file_name</th>\n",
       "      <th>phishing_type</th>\n",
       "      <th>speaker</th>\n",
       "    </tr>\n",
       "  </thead>\n",
       "  <tbody>\n",
       "    <tr>\n",
       "      <th>31372</th>\n",
       "      <td>네, 이거. 휴대폰은 호주머니에 넣으셔서 전화 상태를 유지하신 다음에 들어가셔서 단...</td>\n",
       "      <td>phishing_1871</td>\n",
       "      <td>기관사칭형</td>\n",
       "      <td>1</td>\n",
       "    </tr>\n",
       "    <tr>\n",
       "      <th>31373</th>\n",
       "      <td>지금 그렇게 해주시면 됩니다.</td>\n",
       "      <td>phishing_1871</td>\n",
       "      <td>기관사칭형</td>\n",
       "      <td>0</td>\n",
       "    </tr>\n",
       "    <tr>\n",
       "      <th>31374</th>\n",
       "      <td>알겠습니다.</td>\n",
       "      <td>phishing_1871</td>\n",
       "      <td>기관사칭형</td>\n",
       "      <td>1</td>\n",
       "    </tr>\n",
       "    <tr>\n",
       "      <th>31375</th>\n",
       "      <td>본인 뽕 검사랑 저희 금감원 쪽에서 모니터링하니까 전혀 걱정하실 필요 없고요.</td>\n",
       "      <td>phishing_1871</td>\n",
       "      <td>기관사칭형</td>\n",
       "      <td>0</td>\n",
       "    </tr>\n",
       "    <tr>\n",
       "      <th>31376</th>\n",
       "      <td>응.</td>\n",
       "      <td>phishing_1871</td>\n",
       "      <td>기관사칭형</td>\n",
       "      <td>0</td>\n",
       "    </tr>\n",
       "  </tbody>\n",
       "</table>\n",
       "</div>"
      ],
      "text/plain": [
       "                                                    text      file_name  \\\n",
       "31372  네, 이거. 휴대폰은 호주머니에 넣으셔서 전화 상태를 유지하신 다음에 들어가셔서 단...  phishing_1871   \n",
       "31373                                   지금 그렇게 해주시면 됩니다.  phishing_1871   \n",
       "31374                                             알겠습니다.  phishing_1871   \n",
       "31375        본인 뽕 검사랑 저희 금감원 쪽에서 모니터링하니까 전혀 걱정하실 필요 없고요.  phishing_1871   \n",
       "31376                                                 응.  phishing_1871   \n",
       "\n",
       "      phishing_type  speaker  \n",
       "31372         기관사칭형        1  \n",
       "31373         기관사칭형        0  \n",
       "31374         기관사칭형        1  \n",
       "31375         기관사칭형        0  \n",
       "31376         기관사칭형        0  "
      ]
     },
     "execution_count": 108,
     "metadata": {},
     "output_type": "execute_result"
    }
   ],
   "source": [
    "df1.tail()"
   ]
  },
  {
   "cell_type": "code",
   "execution_count": 46,
   "id": "2f2bf879",
   "metadata": {},
   "outputs": [],
   "source": [
    "df_concat = pd.concat([df1, df2], ignore_index=True)"
   ]
  },
  {
   "cell_type": "code",
   "execution_count": 47,
   "id": "4888fe0b",
   "metadata": {},
   "outputs": [],
   "source": [
    "df_concat = df_concat[df2.columns]"
   ]
  },
  {
   "cell_type": "code",
   "execution_count": 107,
   "id": "291c6a58",
   "metadata": {},
   "outputs": [
    {
     "data": {
      "text/html": [
       "<div>\n",
       "<style scoped>\n",
       "    .dataframe tbody tr th:only-of-type {\n",
       "        vertical-align: middle;\n",
       "    }\n",
       "\n",
       "    .dataframe tbody tr th {\n",
       "        vertical-align: top;\n",
       "    }\n",
       "\n",
       "    .dataframe thead th {\n",
       "        text-align: right;\n",
       "    }\n",
       "</style>\n",
       "<table border=\"1\" class=\"dataframe\">\n",
       "  <thead>\n",
       "    <tr style=\"text-align: right;\">\n",
       "      <th></th>\n",
       "      <th>file_name</th>\n",
       "      <th>phishing_type</th>\n",
       "      <th>speaker</th>\n",
       "      <th>text</th>\n",
       "    </tr>\n",
       "  </thead>\n",
       "  <tbody>\n",
       "    <tr>\n",
       "      <th>38699</th>\n",
       "      <td>phishing_1365</td>\n",
       "      <td>콜백스미싱형</td>\n",
       "      <td>1</td>\n",
       "      <td>됐어요. 안 해요. 못 믿겠어요.</td>\n",
       "    </tr>\n",
       "    <tr>\n",
       "      <th>38700</th>\n",
       "      <td>phishing_1366</td>\n",
       "      <td>가족지인사칭형</td>\n",
       "      <td>0</td>\n",
       "      <td>뭘 어떡해? 네가 지금 빠른 선택을 해요. 돈 주고 부인 찾을 때 경찰이 올 경우 ...</td>\n",
       "    </tr>\n",
       "    <tr>\n",
       "      <th>38701</th>\n",
       "      <td>phishing_1366</td>\n",
       "      <td>가족지인사칭형</td>\n",
       "      <td>1</td>\n",
       "      <td>선생님, 제 아내만 제발 살려주세요. 제발요. 제가 다 하겠습니다. 선생님 제발요!</td>\n",
       "    </tr>\n",
       "    <tr>\n",
       "      <th>38702</th>\n",
       "      <td>phishing_1366</td>\n",
       "      <td>가족지인사칭형</td>\n",
       "      <td>0</td>\n",
       "      <td>5월 초에 어디로 또 나간다면... (여행 계획을 언급하며) 알았어, 그러면 알 수...</td>\n",
       "    </tr>\n",
       "    <tr>\n",
       "      <th>38703</th>\n",
       "      <td>phishing_1367</td>\n",
       "      <td>콜백스미싱형</td>\n",
       "      <td>0</td>\n",
       "      <td>사용하는 앱 중에 하나 삭제해. 카카오톡이라고 그랬지? 꾹 눌러서 앱 자체를 폰에서...</td>\n",
       "    </tr>\n",
       "  </tbody>\n",
       "</table>\n",
       "</div>"
      ],
      "text/plain": [
       "           file_name phishing_type  speaker  \\\n",
       "38699  phishing_1365        콜백스미싱형        1   \n",
       "38700  phishing_1366       가족지인사칭형        0   \n",
       "38701  phishing_1366       가족지인사칭형        1   \n",
       "38702  phishing_1366       가족지인사칭형        0   \n",
       "38703  phishing_1367        콜백스미싱형        0   \n",
       "\n",
       "                                                    text  \n",
       "38699                                 됐어요. 안 해요. 못 믿겠어요.  \n",
       "38700  뭘 어떡해? 네가 지금 빠른 선택을 해요. 돈 주고 부인 찾을 때 경찰이 올 경우 ...  \n",
       "38701     선생님, 제 아내만 제발 살려주세요. 제발요. 제가 다 하겠습니다. 선생님 제발요!  \n",
       "38702  5월 초에 어디로 또 나간다면... (여행 계획을 언급하며) 알았어, 그러면 알 수...  \n",
       "38703  사용하는 앱 중에 하나 삭제해. 카카오톡이라고 그랬지? 꾹 눌러서 앱 자체를 폰에서...  "
      ]
     },
     "execution_count": 107,
     "metadata": {},
     "output_type": "execute_result"
    }
   ],
   "source": [
    "df_concat.tail()"
   ]
  },
  {
   "cell_type": "code",
   "execution_count": null,
   "id": "762587de",
   "metadata": {},
   "outputs": [],
   "source": [
    "# df_concat.to_csv('C:/Users/user/Desktop/woogawooga/woogawooga_project/dataset/merged_result.csv', index=False, encoding='utf-8')"
   ]
  },
  {
   "cell_type": "code",
   "execution_count": 52,
   "id": "781c4198",
   "metadata": {},
   "outputs": [
    {
     "data": {
      "text/plain": [
       "array(['기관사칭형', '세금환급형', '대출빙자형', '기타', '가족지인사칭형', '투자권유형',\n",
       "       '대화 내용을 바탕으로 가장 적합한 유형은 \"대출빙자형\"입니다.',\n",
       "       '대화 내용을 바탕으로 가장 적합한 유형은 \"기관사칭형\"입니다.', '메신저피싱형', '콜백스미싱형',\n",
       "       '대포통장모집형', '대포통장형',\n",
       "       '대화 내용에 \"100만원 이상\"이라는 금액이 언급되어 있어 대출이나 금융 관련 사기일 가능성이 높습니다. 따라서 가장 적합한 유형은 \"대출빙자형\"입니다.',\n",
       "       '대화 내용을 바탕으로 적합한 유형을 선택할 수 있는 정보가 부족합니다. 파일 이름에 명확한 키워드도 없으므로, 대화 내용만으로는 유형을 결정하기 어렵습니다. 추가적인 정보가 필요합니다.',\n",
       "       '납치빙자형', '택배사칭형', '대포통장',\n",
       "       '대화 내용만으로는 보이스피싱 유형을 정확히 분류하기 어렵습니다. 파일 이름에 명확한 키워드가 없으므로 대화 내용만으로는 판단할 수 없습니다. 추가 정보가 필요합니다.',\n",
       "       '마스킹'], dtype=object)"
      ]
     },
     "execution_count": 52,
     "metadata": {},
     "output_type": "execute_result"
    }
   ],
   "source": [
    "df_concat[\"phishing_type\"].unique()"
   ]
  },
  {
   "cell_type": "code",
   "execution_count": 101,
   "id": "23fa3f32",
   "metadata": {},
   "outputs": [],
   "source": [
    "file3 = r'C:\\Users\\user\\Desktop\\woogawooga\\woogawooga_project\\dataset\\KorCCvi_v2.1_phishingonly.csv'\n",
    "file4 = r'C:\\Users\\user\\Desktop\\woogawooga\\woogawooga_project\\dataset\\phishing_type.csv'\n",
    "file6 = r'C:\\Users\\user\\Desktop\\woogawooga\\woogawooga_project\\dataset_create\\Yongjae\\기관사칭형_100개.csv'\n",
    "file7 = r'C:\\Users\\user\\Desktop\\woogawooga\\woogawooga_project\\dataset_create\\Yongjae\\대출빙자형_95개.csv'\n",
    "file8 = r'C:\\Users\\user\\Desktop\\woogawooga\\woogawooga_project\\dataset_create\\Yongjae\\기관사칭형_대출빙자형_합침.csv'"
   ]
  },
  {
   "cell_type": "code",
   "execution_count": 102,
   "id": "418f37c8",
   "metadata": {},
   "outputs": [],
   "source": [
    "df3 = pd.read_csv(file3)\n",
    "df4 = pd.read_csv(file4)\n",
    "df6 = pd.read_csv(file6)\n",
    "df7 = pd.read_csv(file7)\n",
    "df8 = pd.read_csv(file8)"
   ]
  },
  {
   "cell_type": "code",
   "execution_count": 97,
   "id": "35dfb9a4",
   "metadata": {},
   "outputs": [
    {
     "data": {
      "text/plain": [
       "phishing_type\n",
       "기관사칭형      66.471943\n",
       "대출빙자형      27.192694\n",
       "투자권유형       3.398058\n",
       "가족지인사칭형     2.460095\n",
       "메신저피싱형      0.345565\n",
       "콜백스미싱형      0.115188\n",
       "택배사칭형       0.016455\n",
       "Name: proportion, dtype: float64"
      ]
     },
     "execution_count": 97,
     "metadata": {},
     "output_type": "execute_result"
    }
   ],
   "source": [
    "df5['phishing_type'].value_counts(normalize=True) * 100"
   ]
  },
  {
   "cell_type": "code",
   "execution_count": 91,
   "id": "e35e2816",
   "metadata": {},
   "outputs": [],
   "source": [
    "import pandas as pd\n",
    "\n",
    "# 1. 기관사칭형 file_name 중 100개 무작위 추출\n",
    "inst_file_names = (\n",
    "    df4[df4['phishing_type'] == '기관사칭형']['file_name']\n",
    "    .drop_duplicates()\n",
    "    .sample(n=100, random_state=42)\n",
    ")\n",
    "\n",
    "# 2. 대출빙자형 file_name 중 95개 무작위 추출\n",
    "loan_file_names = (\n",
    "    df4[df4['phishing_type'] == '대출빙자형']['file_name']\n",
    "    .drop_duplicates()\n",
    "    .sample(n=95, random_state=42)\n",
    ")\n",
    "\n",
    "# 3. 기관사칭형 100개 전체 대화 추출\n",
    "inst_100_df = df4[df4['file_name'].isin(inst_file_names)]\n",
    "\n",
    "# 4. 대출빙자형 95개 전체 대화 추출\n",
    "loan_95_df = df4[df4['file_name'].isin(loan_file_names)]\n",
    "\n",
    "# 5. 두 그룹에 포함된 file_name 합치기\n",
    "exclude_file_names = pd.concat([inst_file_names, loan_file_names])\n",
    "\n",
    "# 6. 나머지 file_name 추출 (중복 없이, 500개)\n",
    "rest_file_names = (\n",
    "    df4[~df4['file_name'].isin(exclude_file_names)]['file_name']\n",
    "    .drop_duplicates()\n",
    "    .sample(n=500, random_state=42)\n",
    ")\n",
    "\n",
    "# 7. 나머지 500개 file_name 전체 대화 추출\n",
    "rest_500_df = df4[df4['file_name'].isin(rest_file_names)]\n",
    "\n",
    "# 8. 각각 파일로 저장\n",
    "inst_100_df.to_csv('기관사칭형_100개.csv', index=False)\n",
    "loan_95_df.to_csv('대출빙자형_95개.csv', index=False)\n",
    "rest_500_df.to_csv('나머지_500개.csv', index=False)\n"
   ]
  },
  {
   "cell_type": "code",
   "execution_count": 98,
   "id": "1110fec8",
   "metadata": {},
   "outputs": [],
   "source": [
    "combined_df = pd.concat([df6, df7], ignore_index=True)\n",
    "\n",
    "# 합쳐진 데이터 저장 (예시)\n",
    "combined_df.to_csv(r'C:\\Users\\user\\Desktop\\woogawooga\\woogawooga_project\\dataset_create\\Yongjae\\기관사칭형_대출빙자형_합침.csv', index=False)"
   ]
  },
  {
   "cell_type": "code",
   "execution_count": 104,
   "id": "99aedbed",
   "metadata": {},
   "outputs": [
    {
     "data": {
      "text/html": [
       "<div>\n",
       "<style scoped>\n",
       "    .dataframe tbody tr th:only-of-type {\n",
       "        vertical-align: middle;\n",
       "    }\n",
       "\n",
       "    .dataframe tbody tr th {\n",
       "        vertical-align: top;\n",
       "    }\n",
       "\n",
       "    .dataframe thead th {\n",
       "        text-align: right;\n",
       "    }\n",
       "</style>\n",
       "<table border=\"1\" class=\"dataframe\">\n",
       "  <thead>\n",
       "    <tr style=\"text-align: right;\">\n",
       "      <th></th>\n",
       "      <th>file_name</th>\n",
       "      <th>phishing_type</th>\n",
       "      <th>speaker</th>\n",
       "      <th>text</th>\n",
       "    </tr>\n",
       "  </thead>\n",
       "  <tbody>\n",
       "    <tr>\n",
       "      <th>0</th>\n",
       "      <td>1</td>\n",
       "      <td>기관사칭형</td>\n",
       "      <td>0</td>\n",
       "      <td>본인 성함 알겟습니다. 제가 첫번째는 이제 본인이 혹시라도 이제 깡통 계좌 발생으로...</td>\n",
       "    </tr>\n",
       "    <tr>\n",
       "      <th>1</th>\n",
       "      <td>1</td>\n",
       "      <td>기관사칭형</td>\n",
       "      <td>1</td>\n",
       "      <td>네</td>\n",
       "    </tr>\n",
       "    <tr>\n",
       "      <th>2</th>\n",
       "      <td>1</td>\n",
       "      <td>기관사칭형</td>\n",
       "      <td>0</td>\n",
       "      <td>아 아 그 두번째 같은 경우는 혹시라도 본인이 이 자금을 어 이제 조사를 피하기 위...</td>\n",
       "    </tr>\n",
       "    <tr>\n",
       "      <th>3</th>\n",
       "      <td>1</td>\n",
       "      <td>기관사칭형</td>\n",
       "      <td>1</td>\n",
       "      <td>네 네</td>\n",
       "    </tr>\n",
       "    <tr>\n",
       "      <th>4</th>\n",
       "      <td>1</td>\n",
       "      <td>기관사칭형</td>\n",
       "      <td>0</td>\n",
       "      <td>아 그래서 깡통 계좌 내용에 대한 거는 이제 실질적으로 제가 설명드렸듯이 이 계좌 ...</td>\n",
       "    </tr>\n",
       "  </tbody>\n",
       "</table>\n",
       "</div>"
      ],
      "text/plain": [
       "   file_name phishing_type  speaker  \\\n",
       "0          1         기관사칭형        0   \n",
       "1          1         기관사칭형        1   \n",
       "2          1         기관사칭형        0   \n",
       "3          1         기관사칭형        1   \n",
       "4          1         기관사칭형        0   \n",
       "\n",
       "                                                text  \n",
       "0  본인 성함 알겟습니다. 제가 첫번째는 이제 본인이 혹시라도 이제 깡통 계좌 발생으로...  \n",
       "1                                                  네  \n",
       "2  아 아 그 두번째 같은 경우는 혹시라도 본인이 이 자금을 어 이제 조사를 피하기 위...  \n",
       "3                                                네 네  \n",
       "4  아 그래서 깡통 계좌 내용에 대한 거는 이제 실질적으로 제가 설명드렸듯이 이 계좌 ...  "
      ]
     },
     "execution_count": 104,
     "metadata": {},
     "output_type": "execute_result"
    }
   ],
   "source": [
    "df8.head()"
   ]
  },
  {
   "cell_type": "code",
   "execution_count": 109,
   "id": "33fdadff",
   "metadata": {},
   "outputs": [
    {
     "name": "stdout",
     "output_type": "stream",
     "text": [
      "       file_name phishing_type  speaker  \\\n",
      "0  phishing_1872         기관사칭형        0   \n",
      "1  phishing_1872         기관사칭형        1   \n",
      "2  phishing_1872         기관사칭형        0   \n",
      "3  phishing_1872         기관사칭형        1   \n",
      "4  phishing_1872         기관사칭형        0   \n",
      "\n",
      "                                                text  \n",
      "0  본인 성함 알겟습니다. 제가 첫번째는 이제 본인이 혹시라도 이제 깡통 계좌 발생으로...  \n",
      "1                                                  네  \n",
      "2  아 아 그 두번째 같은 경우는 혹시라도 본인이 이 자금을 어 이제 조사를 피하기 위...  \n",
      "3                                                네 네  \n",
      "4  아 그래서 깡통 계좌 내용에 대한 거는 이제 실질적으로 제가 설명드렸듯이 이 계좌 ...  \n"
     ]
    }
   ],
   "source": [
    "import pandas as pd\n",
    "\n",
    "# 예시: 기존 데이터프레임(df8)이 있다고 가정\n",
    "# df8 = pd.read_csv('your_file.csv')  # 실제 파일 불러올 때 사용\n",
    "\n",
    "start_num = 1872\n",
    "\n",
    "# file_name별로 고유 번호 부여 (기존 file_name 순서 유지)\n",
    "unique_file_names = df8['file_name'].unique()\n",
    "\n",
    "# 기존 file_name을 새로운 이름으로 매핑\n",
    "file_name_map = {old: f'phishing_{start_num + i}' for i, old in enumerate(unique_file_names)}\n",
    "\n",
    "# 매핑 적용\n",
    "df8['file_name'] = df8['file_name'].map(file_name_map)\n",
    "\n",
    "# 결과 확인\n",
    "print(df8.head())\n"
   ]
  },
  {
   "cell_type": "code",
   "execution_count": 110,
   "id": "716d4e6c",
   "metadata": {},
   "outputs": [
    {
     "data": {
      "text/html": [
       "<div>\n",
       "<style scoped>\n",
       "    .dataframe tbody tr th:only-of-type {\n",
       "        vertical-align: middle;\n",
       "    }\n",
       "\n",
       "    .dataframe tbody tr th {\n",
       "        vertical-align: top;\n",
       "    }\n",
       "\n",
       "    .dataframe thead th {\n",
       "        text-align: right;\n",
       "    }\n",
       "</style>\n",
       "<table border=\"1\" class=\"dataframe\">\n",
       "  <thead>\n",
       "    <tr style=\"text-align: right;\">\n",
       "      <th></th>\n",
       "      <th>file_name</th>\n",
       "      <th>phishing_type</th>\n",
       "      <th>speaker</th>\n",
       "      <th>text</th>\n",
       "    </tr>\n",
       "  </thead>\n",
       "  <tbody>\n",
       "    <tr>\n",
       "      <th>0</th>\n",
       "      <td>phishing_1872</td>\n",
       "      <td>기관사칭형</td>\n",
       "      <td>0</td>\n",
       "      <td>본인 성함 알겟습니다. 제가 첫번째는 이제 본인이 혹시라도 이제 깡통 계좌 발생으로...</td>\n",
       "    </tr>\n",
       "    <tr>\n",
       "      <th>1</th>\n",
       "      <td>phishing_1872</td>\n",
       "      <td>기관사칭형</td>\n",
       "      <td>1</td>\n",
       "      <td>네</td>\n",
       "    </tr>\n",
       "    <tr>\n",
       "      <th>2</th>\n",
       "      <td>phishing_1872</td>\n",
       "      <td>기관사칭형</td>\n",
       "      <td>0</td>\n",
       "      <td>아 아 그 두번째 같은 경우는 혹시라도 본인이 이 자금을 어 이제 조사를 피하기 위...</td>\n",
       "    </tr>\n",
       "    <tr>\n",
       "      <th>3</th>\n",
       "      <td>phishing_1872</td>\n",
       "      <td>기관사칭형</td>\n",
       "      <td>1</td>\n",
       "      <td>네 네</td>\n",
       "    </tr>\n",
       "    <tr>\n",
       "      <th>4</th>\n",
       "      <td>phishing_1872</td>\n",
       "      <td>기관사칭형</td>\n",
       "      <td>0</td>\n",
       "      <td>아 그래서 깡통 계좌 내용에 대한 거는 이제 실질적으로 제가 설명드렸듯이 이 계좌 ...</td>\n",
       "    </tr>\n",
       "  </tbody>\n",
       "</table>\n",
       "</div>"
      ],
      "text/plain": [
       "       file_name phishing_type  speaker  \\\n",
       "0  phishing_1872         기관사칭형        0   \n",
       "1  phishing_1872         기관사칭형        1   \n",
       "2  phishing_1872         기관사칭형        0   \n",
       "3  phishing_1872         기관사칭형        1   \n",
       "4  phishing_1872         기관사칭형        0   \n",
       "\n",
       "                                                text  \n",
       "0  본인 성함 알겟습니다. 제가 첫번째는 이제 본인이 혹시라도 이제 깡통 계좌 발생으로...  \n",
       "1                                                  네  \n",
       "2  아 아 그 두번째 같은 경우는 혹시라도 본인이 이 자금을 어 이제 조사를 피하기 위...  \n",
       "3                                                네 네  \n",
       "4  아 그래서 깡통 계좌 내용에 대한 거는 이제 실질적으로 제가 설명드렸듯이 이 계좌 ...  "
      ]
     },
     "execution_count": 110,
     "metadata": {},
     "output_type": "execute_result"
    }
   ],
   "source": [
    "df8.head()"
   ]
  },
  {
   "cell_type": "code",
   "execution_count": 111,
   "id": "ab5ffeb5",
   "metadata": {},
   "outputs": [],
   "source": [
    "import pandas as pd\n",
    "\n",
    "# 두 데이터프레임 합치기\n",
    "df_total = pd.concat([df_concat, df8], ignore_index=True)\n",
    "\n",
    "# 합친 데이터 저장\n",
    "df_total.to_csv('합쳐진_데이터.csv', index=False)"
   ]
  },
  {
   "cell_type": "code",
   "execution_count": 113,
   "id": "9354eb2e",
   "metadata": {},
   "outputs": [
    {
     "data": {
      "text/plain": [
       "2047"
      ]
     },
     "execution_count": 113,
     "metadata": {},
     "output_type": "execute_result"
    }
   ],
   "source": [
    "df_total['file_name'].nunique()"
   ]
  },
  {
   "cell_type": "code",
   "execution_count": null,
   "id": "006632fe",
   "metadata": {},
   "outputs": [
    {
     "name": "stdout",
     "output_type": "stream",
     "text": [
      "<class 'pandas.core.frame.DataFrame'>\n",
      "RangeIndex: 44519 entries, 0 to 44518\n",
      "Data columns (total 4 columns):\n",
      " #   Column         Non-Null Count  Dtype \n",
      "---  ------         --------------  ----- \n",
      " 0   file_name      44519 non-null  object\n",
      " 1   phishing_type  44519 non-null  object\n",
      " 2   speaker        44519 non-null  int64 \n",
      " 3   text           44519 non-null  object\n",
      "dtypes: int64(1), object(3)\n",
      "memory usage: 1.4+ MB\n"
     ]
    }
   ],
   "source": [
    "df_total."
   ]
  },
  {
   "cell_type": "code",
   "execution_count": null,
   "id": "abde59df",
   "metadata": {},
   "outputs": [],
   "source": []
  }
 ],
 "metadata": {
  "kernelspec": {
   "display_name": "woogawooga-project",
   "language": "python",
   "name": "python3"
  },
  "language_info": {
   "codemirror_mode": {
    "name": "ipython",
    "version": 3
   },
   "file_extension": ".py",
   "mimetype": "text/x-python",
   "name": "python",
   "nbconvert_exporter": "python",
   "pygments_lexer": "ipython3",
   "version": "3.10.16"
  }
 },
 "nbformat": 4,
 "nbformat_minor": 5
}
