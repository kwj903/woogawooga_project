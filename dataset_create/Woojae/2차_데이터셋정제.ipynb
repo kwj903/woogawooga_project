{
 "cells": [
  {
   "cell_type": "code",
   "execution_count": 1,
   "id": "59a6a7e3",
   "metadata": {},
   "outputs": [],
   "source": [
    "import pandas as pd\n",
    "import numpy as np\n",
    "import matplotlib.pyplot as plt\n",
    "import seaborn as sns"
   ]
  },
  {
   "cell_type": "code",
   "execution_count": null,
   "id": "519ec4e5",
   "metadata": {},
   "outputs": [],
   "source": [
    "# Jupyter Notebook, Google Colab 등에서 그래프를 셀 안에 바로 표시하기 위한 설정\n",
    "# %matplotlib inline\n",
    "# 시각화 시 한글 폰트가 깨지는 것을 방지하기 위한 설정\n",
    "import platform\n",
    "from matplotlib import font_manager, rc\n",
    "\n",
    "plt.rcParams['axes.unicode_minus'] = False\n",
    "if platform.system() == 'Windows':  # Windows 환경\n",
    "    path = \"c:/Windows/Fonts/malgun.ttf\"\n",
    "    font_name = font_manager.FontProperties(fname=path).get_name()\n",
    "    rc('font', family=font_name)\n",
    "elif platform.system() == 'Darwin':  # Mac 환경\n",
    "    rc('font', family='AppleGothic')\n",
    "else:\n",
    "    print('Unknown system... sorry~~~~')\n"
   ]
  },
  {
   "cell_type": "code",
   "execution_count": null,
   "id": "f3dca2ac",
   "metadata": {},
   "outputs": [],
   "source": [
    "file_path = \"../../dataset/normal_dataset(콜센터).csv\"\n",
    "df = pd.read_csv(file_path)"
   ]
  },
  {
   "cell_type": "code",
   "execution_count": 5,
   "id": "40826a3a",
   "metadata": {},
   "outputs": [
    {
     "data": {
      "text/html": [
       "<div>\n",
       "<style scoped>\n",
       "    .dataframe tbody tr th:only-of-type {\n",
       "        vertical-align: middle;\n",
       "    }\n",
       "\n",
       "    .dataframe tbody tr th {\n",
       "        vertical-align: top;\n",
       "    }\n",
       "\n",
       "    .dataframe thead th {\n",
       "        text-align: right;\n",
       "    }\n",
       "</style>\n",
       "<table border=\"1\" class=\"dataframe\">\n",
       "  <thead>\n",
       "    <tr style=\"text-align: right;\">\n",
       "      <th></th>\n",
       "      <th>file_name</th>\n",
       "      <th>category</th>\n",
       "      <th>subcategory</th>\n",
       "      <th>spk</th>\n",
       "      <th>msg</th>\n",
       "    </tr>\n",
       "  </thead>\n",
       "  <tbody>\n",
       "    <tr>\n",
       "      <th>0</th>\n",
       "      <td>S000001.json</td>\n",
       "      <td>교육</td>\n",
       "      <td>공부방법</td>\n",
       "      <td>1</td>\n",
       "      <td>그 저기 뭐지 예 수학 선생님들이 여러분 계신데.</td>\n",
       "    </tr>\n",
       "    <tr>\n",
       "      <th>1</th>\n",
       "      <td>S000001.json</td>\n",
       "      <td>교육</td>\n",
       "      <td>기타문의</td>\n",
       "      <td>1</td>\n",
       "      <td>n/ 네 그래요 그러면 얘한테 뭐 듣고 (싶) 우선은 (연) 연장 (가) 근데 여기가</td>\n",
       "    </tr>\n",
       "    <tr>\n",
       "      <th>2</th>\n",
       "      <td>S000001.json</td>\n",
       "      <td>교육</td>\n",
       "      <td>기타문의</td>\n",
       "      <td>1</td>\n",
       "      <td>조금 이런 게 안 좋은 것 (같아요)/(같애요)l/.</td>\n",
       "    </tr>\n",
       "    <tr>\n",
       "      <th>3</th>\n",
       "      <td>S000001.json</td>\n",
       "      <td>교육</td>\n",
       "      <td>기타문의</td>\n",
       "      <td>2</td>\n",
       "      <td>n/ 그 부분은 꼭 건의드리겠습니다. 어머니.</td>\n",
       "    </tr>\n",
       "    <tr>\n",
       "      <th>4</th>\n",
       "      <td>S000001.json</td>\n",
       "      <td>교육</td>\n",
       "      <td>기타문의</td>\n",
       "      <td>1</td>\n",
       "      <td>n/ 네 좀 이런 부분은 조금 불편한 것 같네요 그러고 보니까.</td>\n",
       "    </tr>\n",
       "  </tbody>\n",
       "</table>\n",
       "</div>"
      ],
      "text/plain": [
       "      file_name category subcategory  spk  \\\n",
       "0  S000001.json       교육        공부방법    1   \n",
       "1  S000001.json       교육        기타문의    1   \n",
       "2  S000001.json       교육        기타문의    1   \n",
       "3  S000001.json       교육        기타문의    2   \n",
       "4  S000001.json       교육        기타문의    1   \n",
       "\n",
       "                                               msg  \n",
       "0                      그 저기 뭐지 예 수학 선생님들이 여러분 계신데.  \n",
       "1  n/ 네 그래요 그러면 얘한테 뭐 듣고 (싶) 우선은 (연) 연장 (가) 근데 여기가  \n",
       "2                    조금 이런 게 안 좋은 것 (같아요)/(같애요)l/.  \n",
       "3                        n/ 그 부분은 꼭 건의드리겠습니다. 어머니.  \n",
       "4              n/ 네 좀 이런 부분은 조금 불편한 것 같네요 그러고 보니까.  "
      ]
     },
     "execution_count": 5,
     "metadata": {},
     "output_type": "execute_result"
    }
   ],
   "source": [
    "df.head()"
   ]
  },
  {
   "cell_type": "code",
   "execution_count": 6,
   "id": "afebeede",
   "metadata": {},
   "outputs": [
    {
     "data": {
      "text/html": [
       "<div>\n",
       "<style scoped>\n",
       "    .dataframe tbody tr th:only-of-type {\n",
       "        vertical-align: middle;\n",
       "    }\n",
       "\n",
       "    .dataframe tbody tr th {\n",
       "        vertical-align: top;\n",
       "    }\n",
       "\n",
       "    .dataframe thead th {\n",
       "        text-align: right;\n",
       "    }\n",
       "</style>\n",
       "<table border=\"1\" class=\"dataframe\">\n",
       "  <thead>\n",
       "    <tr style=\"text-align: right;\">\n",
       "      <th></th>\n",
       "      <th>file_name</th>\n",
       "      <th>category</th>\n",
       "      <th>subcategory</th>\n",
       "      <th>spk</th>\n",
       "      <th>msg</th>\n",
       "    </tr>\n",
       "  </thead>\n",
       "  <tbody>\n",
       "    <tr>\n",
       "      <th>4426581</th>\n",
       "      <td>S038329.json</td>\n",
       "      <td>전자상거래</td>\n",
       "      <td>결제, 취소, 환불 문의</td>\n",
       "      <td>1</td>\n",
       "      <td>n/ 네네 통합 주문 방식으로 하면 배송료가 안 드나요?</td>\n",
       "    </tr>\n",
       "    <tr>\n",
       "      <th>4426582</th>\n",
       "      <td>S038329.json</td>\n",
       "      <td>전자상거래</td>\n",
       "      <td>결제, 취소, 환불 문의</td>\n",
       "      <td>1</td>\n",
       "      <td>o/ 네 저희 오늘 교재를 샀는데요. 그 네 빠진 교재가 있어서 추가 주문하고 싶은데.</td>\n",
       "    </tr>\n",
       "    <tr>\n",
       "      <th>4426583</th>\n",
       "      <td>S038329.json</td>\n",
       "      <td>전자상거래</td>\n",
       "      <td>결제, 취소, 환불 문의</td>\n",
       "      <td>1</td>\n",
       "      <td>캐시로 넣어주시면 그걸로 그냥 결제하면 되죠?</td>\n",
       "    </tr>\n",
       "    <tr>\n",
       "      <th>4426584</th>\n",
       "      <td>S038329.json</td>\n",
       "      <td>전자상거래</td>\n",
       "      <td>결제, 취소, 환불 문의</td>\n",
       "      <td>2</td>\n",
       "      <td>제가 이거 (2개)/(두 개)만 좀 취소해드릴 테니까 이 (2개)/(두 개)랑 다시...</td>\n",
       "    </tr>\n",
       "    <tr>\n",
       "      <th>4426585</th>\n",
       "      <td>S038329.json</td>\n",
       "      <td>전자상거래</td>\n",
       "      <td>결제, 취소, 환불 문의</td>\n",
       "      <td>2</td>\n",
       "      <td>네. 여기다 그냥 추가로 결제하셔서 그냥 (추) 차액만 결제하시면 되거든요?</td>\n",
       "    </tr>\n",
       "  </tbody>\n",
       "</table>\n",
       "</div>"
      ],
      "text/plain": [
       "            file_name category    subcategory  spk  \\\n",
       "4426581  S038329.json    전자상거래  결제, 취소, 환불 문의    1   \n",
       "4426582  S038329.json    전자상거래  결제, 취소, 환불 문의    1   \n",
       "4426583  S038329.json    전자상거래  결제, 취소, 환불 문의    1   \n",
       "4426584  S038329.json    전자상거래  결제, 취소, 환불 문의    2   \n",
       "4426585  S038329.json    전자상거래  결제, 취소, 환불 문의    2   \n",
       "\n",
       "                                                       msg  \n",
       "4426581                    n/ 네네 통합 주문 방식으로 하면 배송료가 안 드나요?  \n",
       "4426582   o/ 네 저희 오늘 교재를 샀는데요. 그 네 빠진 교재가 있어서 추가 주문하고 싶은데.  \n",
       "4426583                          캐시로 넣어주시면 그걸로 그냥 결제하면 되죠?  \n",
       "4426584  제가 이거 (2개)/(두 개)만 좀 취소해드릴 테니까 이 (2개)/(두 개)랑 다시...  \n",
       "4426585         네. 여기다 그냥 추가로 결제하셔서 그냥 (추) 차액만 결제하시면 되거든요?  "
      ]
     },
     "execution_count": 6,
     "metadata": {},
     "output_type": "execute_result"
    }
   ],
   "source": [
    "df.tail()"
   ]
  },
  {
   "cell_type": "code",
   "execution_count": 9,
   "id": "83f4008a",
   "metadata": {},
   "outputs": [
    {
     "data": {
      "text/html": [
       "<div>\n",
       "<style scoped>\n",
       "    .dataframe tbody tr th:only-of-type {\n",
       "        vertical-align: middle;\n",
       "    }\n",
       "\n",
       "    .dataframe tbody tr th {\n",
       "        vertical-align: top;\n",
       "    }\n",
       "\n",
       "    .dataframe thead th {\n",
       "        text-align: right;\n",
       "    }\n",
       "</style>\n",
       "<table border=\"1\" class=\"dataframe\">\n",
       "  <thead>\n",
       "    <tr style=\"text-align: right;\">\n",
       "      <th></th>\n",
       "      <th>spk</th>\n",
       "    </tr>\n",
       "  </thead>\n",
       "  <tbody>\n",
       "    <tr>\n",
       "      <th>count</th>\n",
       "      <td>4.426586e+06</td>\n",
       "    </tr>\n",
       "    <tr>\n",
       "      <th>mean</th>\n",
       "      <td>1.511762e+00</td>\n",
       "    </tr>\n",
       "    <tr>\n",
       "      <th>std</th>\n",
       "      <td>5.327053e-01</td>\n",
       "    </tr>\n",
       "    <tr>\n",
       "      <th>min</th>\n",
       "      <td>1.000000e+00</td>\n",
       "    </tr>\n",
       "    <tr>\n",
       "      <th>25%</th>\n",
       "      <td>1.000000e+00</td>\n",
       "    </tr>\n",
       "    <tr>\n",
       "      <th>50%</th>\n",
       "      <td>1.000000e+00</td>\n",
       "    </tr>\n",
       "    <tr>\n",
       "      <th>75%</th>\n",
       "      <td>2.000000e+00</td>\n",
       "    </tr>\n",
       "    <tr>\n",
       "      <th>max</th>\n",
       "      <td>6.000000e+00</td>\n",
       "    </tr>\n",
       "  </tbody>\n",
       "</table>\n",
       "</div>"
      ],
      "text/plain": [
       "                spk\n",
       "count  4.426586e+06\n",
       "mean   1.511762e+00\n",
       "std    5.327053e-01\n",
       "min    1.000000e+00\n",
       "25%    1.000000e+00\n",
       "50%    1.000000e+00\n",
       "75%    2.000000e+00\n",
       "max    6.000000e+00"
      ]
     },
     "execution_count": 9,
     "metadata": {},
     "output_type": "execute_result"
    }
   ],
   "source": [
    "df.describe()"
   ]
  },
  {
   "cell_type": "code",
   "execution_count": 10,
   "id": "3e0364a3",
   "metadata": {},
   "outputs": [
    {
     "data": {
      "text/plain": [
       "file_name      0\n",
       "category       0\n",
       "subcategory    0\n",
       "spk            0\n",
       "msg            0\n",
       "dtype: int64"
      ]
     },
     "execution_count": 10,
     "metadata": {},
     "output_type": "execute_result"
    }
   ],
   "source": [
    "df.isnull().sum()"
   ]
  },
  {
   "cell_type": "code",
   "execution_count": 11,
   "id": "dc9465f8",
   "metadata": {},
   "outputs": [
    {
     "data": {
      "text/plain": [
       "(4426586, 5)"
      ]
     },
     "execution_count": 11,
     "metadata": {},
     "output_type": "execute_result"
    }
   ],
   "source": [
    "df.shape"
   ]
  },
  {
   "cell_type": "code",
   "execution_count": 12,
   "id": "378a8b17",
   "metadata": {},
   "outputs": [
    {
     "name": "stdout",
     "output_type": "stream",
     "text": [
      "<class 'pandas.core.frame.DataFrame'>\n",
      "RangeIndex: 4426586 entries, 0 to 4426585\n",
      "Data columns (total 5 columns):\n",
      " #   Column       Dtype \n",
      "---  ------       ----- \n",
      " 0   file_name    object\n",
      " 1   category     object\n",
      " 2   subcategory  object\n",
      " 3   spk          int64 \n",
      " 4   msg          object\n",
      "dtypes: int64(1), object(4)\n",
      "memory usage: 168.9+ MB\n"
     ]
    }
   ],
   "source": [
    "df.info()"
   ]
  },
  {
   "cell_type": "code",
   "execution_count": 13,
   "id": "38be99ca",
   "metadata": {},
   "outputs": [
    {
     "data": {
      "text/plain": [
       "0    0\n",
       "1    0\n",
       "2    0\n",
       "3    1\n",
       "4    0\n",
       "5    0\n",
       "6    1\n",
       "7    1\n",
       "8    0\n",
       "9    0\n",
       "Name: spk, dtype: int64"
      ]
     },
     "execution_count": 13,
     "metadata": {},
     "output_type": "execute_result"
    }
   ],
   "source": [
    "df['spk'] = df['spk'] -1\n",
    "df['spk'].head(10)"
   ]
  },
  {
   "cell_type": "code",
   "execution_count": 16,
   "id": "b17f4477",
   "metadata": {},
   "outputs": [
    {
     "name": "stdout",
     "output_type": "stream",
     "text": [
      "DataFrame이 '../../dataset/normal_dataset(콜센터).csv' 파일로 성공적으로 저장되었습니다.\n"
     ]
    }
   ],
   "source": [
    "# 저장할 파일의 경로와 이름을 지정합니다.\n",
    "# 'output.csv' 부분을 원하시는 이름으로 변경하여 사용하세요.\n",
    "output_file_path = '../../dataset/normal_dataset(콜센터).csv'\n",
    "try:\n",
    "  # df.to_csv() 함수를 사용하여 DataFrame을 CSV 파일로 저장합니다.\n",
    "  df.to_csv(output_file_path, index=False, encoding='utf-8-sig')\n",
    "  print(f\"DataFrame이 '{output_file_path}' 파일로 성공적으로 저장되었습니다.\")\n",
    "except Exception as e:\n",
    "  print(f\"파일을 저장하는 중 오류가 발생했습니다: {e}\")"
   ]
  },
  {
   "cell_type": "code",
   "execution_count": null,
   "id": "d8a88150",
   "metadata": {},
   "outputs": [],
   "source": []
  }
 ],
 "metadata": {
  "kernelspec": {
   "display_name": "woogawooga_project",
   "language": "python",
   "name": "python3"
  },
  "language_info": {
   "codemirror_mode": {
    "name": "ipython",
    "version": 3
   },
   "file_extension": ".py",
   "mimetype": "text/x-python",
   "name": "python",
   "nbconvert_exporter": "python",
   "pygments_lexer": "ipython3",
   "version": "3.10.16"
  }
 },
 "nbformat": 4,
 "nbformat_minor": 5
}
