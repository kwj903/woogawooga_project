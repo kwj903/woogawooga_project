{
 "cells": [
  {
   "cell_type": "code",
   "execution_count": 1,
   "id": "59a6a7e3",
   "metadata": {},
   "outputs": [],
   "source": [
    "import pandas as pd\n",
    "import numpy as np\n",
    "import matplotlib.pyplot as plt\n",
    "import seaborn as sns"
   ]
  },
  {
   "cell_type": "code",
<<<<<<< HEAD
   "execution_count": null,
=======
   "execution_count": 2,
>>>>>>> ddf91fa048d35a4ac935fe2ebcebf5ee89bcb4f5
   "id": "519ec4e5",
   "metadata": {},
   "outputs": [],
   "source": [
    "# Jupyter Notebook, Google Colab 등에서 그래프를 셀 안에 바로 표시하기 위한 설정\n",
    "# %matplotlib inline\n",
    "# 시각화 시 한글 폰트가 깨지는 것을 방지하기 위한 설정\n",
    "import platform\n",
    "from matplotlib import font_manager, rc\n",
    "\n",
    "plt.rcParams['axes.unicode_minus'] = False\n",
    "if platform.system() == 'Windows':  # Windows 환경\n",
    "    path = \"c:/Windows/Fonts/malgun.ttf\"\n",
    "    font_name = font_manager.FontProperties(fname=path).get_name()\n",
    "    rc('font', family=font_name)\n",
    "elif platform.system() == 'Darwin':  # Mac 환경\n",
    "    rc('font', family='AppleGothic')\n",
    "else:\n",
    "    print('Unknown system... sorry~~~~')\n"
   ]
  },
  {
   "cell_type": "code",
<<<<<<< HEAD
   "execution_count": null,
=======
   "execution_count": 45,
>>>>>>> ddf91fa048d35a4ac935fe2ebcebf5ee89bcb4f5
   "id": "f3dca2ac",
   "metadata": {},
   "outputs": [],
   "source": [
<<<<<<< HEAD
    "file_path = \"../../dataset/normal_dataset(콜센터).csv\"\n",
=======
    "file_path = \"../../dataset/normal_dataset3(일상통화).csv\"\n",
>>>>>>> ddf91fa048d35a4ac935fe2ebcebf5ee89bcb4f5
    "df = pd.read_csv(file_path)"
   ]
  },
  {
   "cell_type": "code",
<<<<<<< HEAD
   "execution_count": 5,
=======
   "execution_count": 46,
>>>>>>> ddf91fa048d35a4ac935fe2ebcebf5ee89bcb4f5
   "id": "40826a3a",
   "metadata": {},
   "outputs": [
    {
     "data": {
      "text/html": [
       "<div>\n",
       "<style scoped>\n",
       "    .dataframe tbody tr th:only-of-type {\n",
       "        vertical-align: middle;\n",
       "    }\n",
       "\n",
       "    .dataframe tbody tr th {\n",
       "        vertical-align: top;\n",
       "    }\n",
       "\n",
       "    .dataframe thead th {\n",
       "        text-align: right;\n",
       "    }\n",
       "</style>\n",
       "<table border=\"1\" class=\"dataframe\">\n",
       "  <thead>\n",
       "    <tr style=\"text-align: right;\">\n",
       "      <th></th>\n",
       "      <th>file_name</th>\n",
       "      <th>category</th>\n",
       "      <th>subcategory</th>\n",
       "      <th>spk</th>\n",
       "      <th>msg</th>\n",
       "    </tr>\n",
       "  </thead>\n",
       "  <tbody>\n",
       "    <tr>\n",
       "      <th>0</th>\n",
<<<<<<< HEAD
       "      <td>S000001.json</td>\n",
       "      <td>교육</td>\n",
       "      <td>공부방법</td>\n",
       "      <td>1</td>\n",
       "      <td>그 저기 뭐지 예 수학 선생님들이 여러분 계신데.</td>\n",
       "    </tr>\n",
       "    <tr>\n",
       "      <th>1</th>\n",
       "      <td>S000001.json</td>\n",
       "      <td>교육</td>\n",
       "      <td>기타문의</td>\n",
       "      <td>1</td>\n",
       "      <td>n/ 네 그래요 그러면 얘한테 뭐 듣고 (싶) 우선은 (연) 연장 (가) 근데 여기가</td>\n",
       "    </tr>\n",
       "    <tr>\n",
       "      <th>2</th>\n",
       "      <td>S000001.json</td>\n",
       "      <td>교육</td>\n",
       "      <td>기타문의</td>\n",
       "      <td>1</td>\n",
       "      <td>조금 이런 게 안 좋은 것 (같아요)/(같애요)l/.</td>\n",
       "    </tr>\n",
       "    <tr>\n",
       "      <th>3</th>\n",
       "      <td>S000001.json</td>\n",
       "      <td>교육</td>\n",
       "      <td>기타문의</td>\n",
       "      <td>2</td>\n",
       "      <td>n/ 그 부분은 꼭 건의드리겠습니다. 어머니.</td>\n",
       "    </tr>\n",
       "    <tr>\n",
       "      <th>4</th>\n",
       "      <td>S000001.json</td>\n",
       "      <td>교육</td>\n",
       "      <td>기타문의</td>\n",
       "      <td>1</td>\n",
       "      <td>n/ 네 좀 이런 부분은 조금 불편한 것 같네요 그러고 보니까.</td>\n",
=======
       "      <td>2_0001G2A3_0005G2A6_T1_2D06T0219C000451_000112...</td>\n",
       "      <td>실내</td>\n",
       "      <td>기쁨</td>\n",
       "      <td>1</td>\n",
       "      <td>여보세요</td>\n",
       "    </tr>\n",
       "    <tr>\n",
       "      <th>1</th>\n",
       "      <td>2_0001G2A3_0005G2A6_T1_2D06T0219C000451_000112...</td>\n",
       "      <td>실내</td>\n",
       "      <td>기쁨</td>\n",
       "      <td>1</td>\n",
       "      <td>목소리 잘 들리시나요</td>\n",
       "    </tr>\n",
       "    <tr>\n",
       "      <th>2</th>\n",
       "      <td>2_0001G2A3_0005G2A6_T1_2D06T0219C000451_000112...</td>\n",
       "      <td>실내</td>\n",
       "      <td>기쁨</td>\n",
       "      <td>2</td>\n",
       "      <td>아 네 잘 됩니다</td>\n",
       "    </tr>\n",
       "    <tr>\n",
       "      <th>3</th>\n",
       "      <td>2_0001G2A3_0005G2A6_T1_2D06T0219C000451_000112...</td>\n",
       "      <td>실내</td>\n",
       "      <td>기쁨</td>\n",
       "      <td>1</td>\n",
       "      <td>아 네</td>\n",
       "    </tr>\n",
       "    <tr>\n",
       "      <th>4</th>\n",
       "      <td>2_0001G2A3_0005G2A6_T1_2D06T0219C000451_000112...</td>\n",
       "      <td>실내</td>\n",
       "      <td>기쁨</td>\n",
       "      <td>2</td>\n",
       "      <td>안녕하세요</td>\n",
>>>>>>> ddf91fa048d35a4ac935fe2ebcebf5ee89bcb4f5
       "    </tr>\n",
       "  </tbody>\n",
       "</table>\n",
       "</div>"
      ],
      "text/plain": [
<<<<<<< HEAD
       "      file_name category subcategory  spk  \\\n",
       "0  S000001.json       교육        공부방법    1   \n",
       "1  S000001.json       교육        기타문의    1   \n",
       "2  S000001.json       교육        기타문의    1   \n",
       "3  S000001.json       교육        기타문의    2   \n",
       "4  S000001.json       교육        기타문의    1   \n",
       "\n",
       "                                               msg  \n",
       "0                      그 저기 뭐지 예 수학 선생님들이 여러분 계신데.  \n",
       "1  n/ 네 그래요 그러면 얘한테 뭐 듣고 (싶) 우선은 (연) 연장 (가) 근데 여기가  \n",
       "2                    조금 이런 게 안 좋은 것 (같아요)/(같애요)l/.  \n",
       "3                        n/ 그 부분은 꼭 건의드리겠습니다. 어머니.  \n",
       "4              n/ 네 좀 이런 부분은 조금 불편한 것 같네요 그러고 보니까.  "
      ]
     },
     "execution_count": 5,
=======
       "                                           file_name category subcategory  \\\n",
       "0  2_0001G2A3_0005G2A6_T1_2D06T0219C000451_000112...       실내          기쁨   \n",
       "1  2_0001G2A3_0005G2A6_T1_2D06T0219C000451_000112...       실내          기쁨   \n",
       "2  2_0001G2A3_0005G2A6_T1_2D06T0219C000451_000112...       실내          기쁨   \n",
       "3  2_0001G2A3_0005G2A6_T1_2D06T0219C000451_000112...       실내          기쁨   \n",
       "4  2_0001G2A3_0005G2A6_T1_2D06T0219C000451_000112...       실내          기쁨   \n",
       "\n",
       "   spk          msg  \n",
       "0    1         여보세요  \n",
       "1    1  목소리 잘 들리시나요  \n",
       "2    2    아 네 잘 됩니다  \n",
       "3    1          아 네  \n",
       "4    2        안녕하세요  "
      ]
     },
     "execution_count": 46,
>>>>>>> ddf91fa048d35a4ac935fe2ebcebf5ee89bcb4f5
     "metadata": {},
     "output_type": "execute_result"
    }
   ],
   "source": [
    "df.head()"
   ]
  },
  {
   "cell_type": "code",
<<<<<<< HEAD
   "execution_count": 6,
=======
   "execution_count": 47,
>>>>>>> ddf91fa048d35a4ac935fe2ebcebf5ee89bcb4f5
   "id": "afebeede",
   "metadata": {},
   "outputs": [
    {
     "data": {
      "text/html": [
       "<div>\n",
       "<style scoped>\n",
       "    .dataframe tbody tr th:only-of-type {\n",
       "        vertical-align: middle;\n",
       "    }\n",
       "\n",
       "    .dataframe tbody tr th {\n",
       "        vertical-align: top;\n",
       "    }\n",
       "\n",
       "    .dataframe thead th {\n",
       "        text-align: right;\n",
       "    }\n",
       "</style>\n",
       "<table border=\"1\" class=\"dataframe\">\n",
       "  <thead>\n",
       "    <tr style=\"text-align: right;\">\n",
       "      <th></th>\n",
       "      <th>file_name</th>\n",
       "      <th>category</th>\n",
       "      <th>subcategory</th>\n",
       "      <th>spk</th>\n",
       "      <th>msg</th>\n",
       "    </tr>\n",
       "  </thead>\n",
       "  <tbody>\n",
       "    <tr>\n",
<<<<<<< HEAD
       "      <th>4426581</th>\n",
       "      <td>S038329.json</td>\n",
       "      <td>전자상거래</td>\n",
       "      <td>결제, 취소, 환불 문의</td>\n",
       "      <td>1</td>\n",
       "      <td>n/ 네네 통합 주문 방식으로 하면 배송료가 안 드나요?</td>\n",
       "    </tr>\n",
       "    <tr>\n",
       "      <th>4426582</th>\n",
       "      <td>S038329.json</td>\n",
       "      <td>전자상거래</td>\n",
       "      <td>결제, 취소, 환불 문의</td>\n",
       "      <td>1</td>\n",
       "      <td>o/ 네 저희 오늘 교재를 샀는데요. 그 네 빠진 교재가 있어서 추가 주문하고 싶은데.</td>\n",
       "    </tr>\n",
       "    <tr>\n",
       "      <th>4426583</th>\n",
       "      <td>S038329.json</td>\n",
       "      <td>전자상거래</td>\n",
       "      <td>결제, 취소, 환불 문의</td>\n",
       "      <td>1</td>\n",
       "      <td>캐시로 넣어주시면 그걸로 그냥 결제하면 되죠?</td>\n",
       "    </tr>\n",
       "    <tr>\n",
       "      <th>4426584</th>\n",
       "      <td>S038329.json</td>\n",
       "      <td>전자상거래</td>\n",
       "      <td>결제, 취소, 환불 문의</td>\n",
       "      <td>2</td>\n",
       "      <td>제가 이거 (2개)/(두 개)만 좀 취소해드릴 테니까 이 (2개)/(두 개)랑 다시...</td>\n",
       "    </tr>\n",
       "    <tr>\n",
       "      <th>4426585</th>\n",
       "      <td>S038329.json</td>\n",
       "      <td>전자상거래</td>\n",
       "      <td>결제, 취소, 환불 문의</td>\n",
       "      <td>2</td>\n",
       "      <td>네. 여기다 그냥 추가로 결제하셔서 그냥 (추) 차액만 결제하시면 되거든요?</td>\n",
=======
       "      <th>481297</th>\n",
       "      <td>2_1807G2A4_2176G2A4_T2_2D06T0268C000145_009064...</td>\n",
       "      <td>실외</td>\n",
       "      <td>놀라움</td>\n",
       "      <td>1</td>\n",
       "      <td>못 먹겠드라.</td>\n",
       "    </tr>\n",
       "    <tr>\n",
       "      <th>481298</th>\n",
       "      <td>2_1807G2A4_2176G2A4_T2_2D06T0268C000145_009064...</td>\n",
       "      <td>실외</td>\n",
       "      <td>기쁨</td>\n",
       "      <td>2</td>\n",
       "      <td>먹어보고는</td>\n",
       "    </tr>\n",
       "    <tr>\n",
       "      <th>481299</th>\n",
       "      <td>2_1807G2A4_2176G2A4_T2_2D06T0268C000145_009064...</td>\n",
       "      <td>실외</td>\n",
       "      <td>기쁨</td>\n",
       "      <td>2</td>\n",
       "      <td>너무</td>\n",
       "    </tr>\n",
       "    <tr>\n",
       "      <th>481300</th>\n",
       "      <td>2_1807G2A4_2176G2A4_T2_2D06T0268C000145_009064...</td>\n",
       "      <td>실외</td>\n",
       "      <td>기쁨</td>\n",
       "      <td>2</td>\n",
       "      <td>짝어서 먹기가 싫더라.</td>\n",
       "    </tr>\n",
       "    <tr>\n",
       "      <th>481301</th>\n",
       "      <td>2_1807G2A4_2176G2A4_T2_2D06T0268C000145_009064...</td>\n",
       "      <td>실외</td>\n",
       "      <td>놀라움</td>\n",
       "      <td>1</td>\n",
       "      <td>짜기도 짜고</td>\n",
>>>>>>> ddf91fa048d35a4ac935fe2ebcebf5ee89bcb4f5
       "    </tr>\n",
       "  </tbody>\n",
       "</table>\n",
       "</div>"
      ],
      "text/plain": [
<<<<<<< HEAD
       "            file_name category    subcategory  spk  \\\n",
       "4426581  S038329.json    전자상거래  결제, 취소, 환불 문의    1   \n",
       "4426582  S038329.json    전자상거래  결제, 취소, 환불 문의    1   \n",
       "4426583  S038329.json    전자상거래  결제, 취소, 환불 문의    1   \n",
       "4426584  S038329.json    전자상거래  결제, 취소, 환불 문의    2   \n",
       "4426585  S038329.json    전자상거래  결제, 취소, 환불 문의    2   \n",
       "\n",
       "                                                       msg  \n",
       "4426581                    n/ 네네 통합 주문 방식으로 하면 배송료가 안 드나요?  \n",
       "4426582   o/ 네 저희 오늘 교재를 샀는데요. 그 네 빠진 교재가 있어서 추가 주문하고 싶은데.  \n",
       "4426583                          캐시로 넣어주시면 그걸로 그냥 결제하면 되죠?  \n",
       "4426584  제가 이거 (2개)/(두 개)만 좀 취소해드릴 테니까 이 (2개)/(두 개)랑 다시...  \n",
       "4426585         네. 여기다 그냥 추가로 결제하셔서 그냥 (추) 차액만 결제하시면 되거든요?  "
      ]
     },
     "execution_count": 6,
=======
       "                                                file_name category  \\\n",
       "481297  2_1807G2A4_2176G2A4_T2_2D06T0268C000145_009064...       실외   \n",
       "481298  2_1807G2A4_2176G2A4_T2_2D06T0268C000145_009064...       실외   \n",
       "481299  2_1807G2A4_2176G2A4_T2_2D06T0268C000145_009064...       실외   \n",
       "481300  2_1807G2A4_2176G2A4_T2_2D06T0268C000145_009064...       실외   \n",
       "481301  2_1807G2A4_2176G2A4_T2_2D06T0268C000145_009064...       실외   \n",
       "\n",
       "       subcategory  spk           msg  \n",
       "481297         놀라움    1       못 먹겠드라.  \n",
       "481298          기쁨    2         먹어보고는  \n",
       "481299          기쁨    2            너무  \n",
       "481300          기쁨    2  짝어서 먹기가 싫더라.  \n",
       "481301         놀라움    1        짜기도 짜고  "
      ]
     },
     "execution_count": 47,
>>>>>>> ddf91fa048d35a4ac935fe2ebcebf5ee89bcb4f5
     "metadata": {},
     "output_type": "execute_result"
    }
   ],
   "source": [
    "df.tail()"
   ]
  },
  {
   "cell_type": "code",
<<<<<<< HEAD
   "execution_count": 9,
=======
   "execution_count": 48,
>>>>>>> ddf91fa048d35a4ac935fe2ebcebf5ee89bcb4f5
   "id": "83f4008a",
   "metadata": {},
   "outputs": [
    {
     "data": {
      "text/html": [
       "<div>\n",
       "<style scoped>\n",
       "    .dataframe tbody tr th:only-of-type {\n",
       "        vertical-align: middle;\n",
       "    }\n",
       "\n",
       "    .dataframe tbody tr th {\n",
       "        vertical-align: top;\n",
       "    }\n",
       "\n",
       "    .dataframe thead th {\n",
       "        text-align: right;\n",
       "    }\n",
       "</style>\n",
       "<table border=\"1\" class=\"dataframe\">\n",
       "  <thead>\n",
       "    <tr style=\"text-align: right;\">\n",
       "      <th></th>\n",
       "      <th>spk</th>\n",
       "    </tr>\n",
       "  </thead>\n",
       "  <tbody>\n",
       "    <tr>\n",
       "      <th>count</th>\n",
<<<<<<< HEAD
       "      <td>4.426586e+06</td>\n",
       "    </tr>\n",
       "    <tr>\n",
       "      <th>mean</th>\n",
       "      <td>1.511762e+00</td>\n",
       "    </tr>\n",
       "    <tr>\n",
       "      <th>std</th>\n",
       "      <td>5.327053e-01</td>\n",
       "    </tr>\n",
       "    <tr>\n",
       "      <th>min</th>\n",
       "      <td>1.000000e+00</td>\n",
       "    </tr>\n",
       "    <tr>\n",
       "      <th>25%</th>\n",
       "      <td>1.000000e+00</td>\n",
       "    </tr>\n",
       "    <tr>\n",
       "      <th>50%</th>\n",
       "      <td>1.000000e+00</td>\n",
       "    </tr>\n",
       "    <tr>\n",
       "      <th>75%</th>\n",
       "      <td>2.000000e+00</td>\n",
       "    </tr>\n",
       "    <tr>\n",
       "      <th>max</th>\n",
       "      <td>6.000000e+00</td>\n",
=======
       "      <td>481302.000000</td>\n",
       "    </tr>\n",
       "    <tr>\n",
       "      <th>mean</th>\n",
       "      <td>1.470320</td>\n",
       "    </tr>\n",
       "    <tr>\n",
       "      <th>std</th>\n",
       "      <td>0.499119</td>\n",
       "    </tr>\n",
       "    <tr>\n",
       "      <th>min</th>\n",
       "      <td>1.000000</td>\n",
       "    </tr>\n",
       "    <tr>\n",
       "      <th>25%</th>\n",
       "      <td>1.000000</td>\n",
       "    </tr>\n",
       "    <tr>\n",
       "      <th>50%</th>\n",
       "      <td>1.000000</td>\n",
       "    </tr>\n",
       "    <tr>\n",
       "      <th>75%</th>\n",
       "      <td>2.000000</td>\n",
       "    </tr>\n",
       "    <tr>\n",
       "      <th>max</th>\n",
       "      <td>2.000000</td>\n",
>>>>>>> ddf91fa048d35a4ac935fe2ebcebf5ee89bcb4f5
       "    </tr>\n",
       "  </tbody>\n",
       "</table>\n",
       "</div>"
      ],
      "text/plain": [
<<<<<<< HEAD
       "                spk\n",
       "count  4.426586e+06\n",
       "mean   1.511762e+00\n",
       "std    5.327053e-01\n",
       "min    1.000000e+00\n",
       "25%    1.000000e+00\n",
       "50%    1.000000e+00\n",
       "75%    2.000000e+00\n",
       "max    6.000000e+00"
      ]
     },
     "execution_count": 9,
=======
       "                 spk\n",
       "count  481302.000000\n",
       "mean        1.470320\n",
       "std         0.499119\n",
       "min         1.000000\n",
       "25%         1.000000\n",
       "50%         1.000000\n",
       "75%         2.000000\n",
       "max         2.000000"
      ]
     },
     "execution_count": 48,
>>>>>>> ddf91fa048d35a4ac935fe2ebcebf5ee89bcb4f5
     "metadata": {},
     "output_type": "execute_result"
    }
   ],
   "source": [
    "df.describe()"
   ]
  },
  {
   "cell_type": "code",
<<<<<<< HEAD
   "execution_count": 10,
=======
   "execution_count": 49,
>>>>>>> ddf91fa048d35a4ac935fe2ebcebf5ee89bcb4f5
   "id": "3e0364a3",
   "metadata": {},
   "outputs": [
    {
     "data": {
      "text/plain": [
       "file_name      0\n",
       "category       0\n",
       "subcategory    0\n",
       "spk            0\n",
       "msg            0\n",
       "dtype: int64"
      ]
     },
<<<<<<< HEAD
     "execution_count": 10,
=======
     "execution_count": 49,
>>>>>>> ddf91fa048d35a4ac935fe2ebcebf5ee89bcb4f5
     "metadata": {},
     "output_type": "execute_result"
    }
   ],
   "source": [
    "df.isnull().sum()"
   ]
  },
  {
   "cell_type": "code",
<<<<<<< HEAD
   "execution_count": 11,
=======
   "execution_count": 50,
>>>>>>> ddf91fa048d35a4ac935fe2ebcebf5ee89bcb4f5
   "id": "dc9465f8",
   "metadata": {},
   "outputs": [
    {
     "data": {
      "text/plain": [
<<<<<<< HEAD
       "(4426586, 5)"
      ]
     },
     "execution_count": 11,
=======
       "(481302, 5)"
      ]
     },
     "execution_count": 50,
>>>>>>> ddf91fa048d35a4ac935fe2ebcebf5ee89bcb4f5
     "metadata": {},
     "output_type": "execute_result"
    }
   ],
   "source": [
    "df.shape"
   ]
  },
  {
   "cell_type": "code",
<<<<<<< HEAD
   "execution_count": 12,
=======
   "execution_count": 51,
>>>>>>> ddf91fa048d35a4ac935fe2ebcebf5ee89bcb4f5
   "id": "378a8b17",
   "metadata": {},
   "outputs": [
    {
     "name": "stdout",
     "output_type": "stream",
     "text": [
      "<class 'pandas.core.frame.DataFrame'>\n",
<<<<<<< HEAD
      "RangeIndex: 4426586 entries, 0 to 4426585\n",
      "Data columns (total 5 columns):\n",
      " #   Column       Dtype \n",
      "---  ------       ----- \n",
      " 0   file_name    object\n",
      " 1   category     object\n",
      " 2   subcategory  object\n",
      " 3   spk          int64 \n",
      " 4   msg          object\n",
      "dtypes: int64(1), object(4)\n",
      "memory usage: 168.9+ MB\n"
=======
      "RangeIndex: 481302 entries, 0 to 481301\n",
      "Data columns (total 5 columns):\n",
      " #   Column       Non-Null Count   Dtype \n",
      "---  ------       --------------   ----- \n",
      " 0   file_name    481302 non-null  object\n",
      " 1   category     481302 non-null  object\n",
      " 2   subcategory  481302 non-null  object\n",
      " 3   spk          481302 non-null  int64 \n",
      " 4   msg          481302 non-null  object\n",
      "dtypes: int64(1), object(4)\n",
      "memory usage: 18.4+ MB\n"
>>>>>>> ddf91fa048d35a4ac935fe2ebcebf5ee89bcb4f5
     ]
    }
   ],
   "source": [
    "df.info()"
   ]
  },
  {
<<<<<<< HEAD
   "cell_type": "code",
   "execution_count": 13,
=======
   "cell_type": "markdown",
   "id": "10fdb8e2",
   "metadata": {},
   "source": [
    "# 화자 넘버 수정"
   ]
  },
  {
   "cell_type": "code",
   "execution_count": 52,
>>>>>>> ddf91fa048d35a4ac935fe2ebcebf5ee89bcb4f5
   "id": "38be99ca",
   "metadata": {},
   "outputs": [
    {
     "data": {
      "text/plain": [
       "0    0\n",
       "1    0\n",
<<<<<<< HEAD
       "2    0\n",
       "3    1\n",
       "4    0\n",
       "5    0\n",
       "6    1\n",
       "7    1\n",
       "8    0\n",
=======
       "2    1\n",
       "3    0\n",
       "4    1\n",
       "5    0\n",
       "6    0\n",
       "7    1\n",
       "8    1\n",
>>>>>>> ddf91fa048d35a4ac935fe2ebcebf5ee89bcb4f5
       "9    0\n",
       "Name: spk, dtype: int64"
      ]
     },
<<<<<<< HEAD
     "execution_count": 13,
=======
     "execution_count": 52,
>>>>>>> ddf91fa048d35a4ac935fe2ebcebf5ee89bcb4f5
     "metadata": {},
     "output_type": "execute_result"
    }
   ],
   "source": [
    "df['spk'] = df['spk'] -1\n",
    "df['spk'].head(10)"
   ]
  },
  {
<<<<<<< HEAD
   "cell_type": "code",
   "execution_count": 16,
=======
   "cell_type": "markdown",
   "id": "e507103f",
   "metadata": {},
   "source": [
    "# 수정한 데이터셋 저장"
   ]
  },
  {
   "cell_type": "code",
   "execution_count": 53,
>>>>>>> ddf91fa048d35a4ac935fe2ebcebf5ee89bcb4f5
   "id": "b17f4477",
   "metadata": {},
   "outputs": [
    {
     "name": "stdout",
     "output_type": "stream",
     "text": [
<<<<<<< HEAD
      "DataFrame이 '../../dataset/normal_dataset(콜센터).csv' 파일로 성공적으로 저장되었습니다.\n"
=======
      "DataFrame이 '../../dataset/normal_dataset3(일상통화).csv' 파일로 성공적으로 저장되었습니다.\n"
>>>>>>> ddf91fa048d35a4ac935fe2ebcebf5ee89bcb4f5
     ]
    }
   ],
   "source": [
    "# 저장할 파일의 경로와 이름을 지정합니다.\n",
    "# 'output.csv' 부분을 원하시는 이름으로 변경하여 사용하세요.\n",
<<<<<<< HEAD
    "output_file_path = '../../dataset/normal_dataset(콜센터).csv'\n",
=======
    "output_file_path = '../../dataset/normal_dataset3(일상통화).csv'\n",
>>>>>>> ddf91fa048d35a4ac935fe2ebcebf5ee89bcb4f5
    "try:\n",
    "  # df.to_csv() 함수를 사용하여 DataFrame을 CSV 파일로 저장합니다.\n",
    "  df.to_csv(output_file_path, index=False, encoding='utf-8-sig')\n",
    "  print(f\"DataFrame이 '{output_file_path}' 파일로 성공적으로 저장되었습니다.\")\n",
    "except Exception as e:\n",
    "  print(f\"파일을 저장하는 중 오류가 발생했습니다: {e}\")"
   ]
  },
  {
<<<<<<< HEAD
   "cell_type": "code",
   "execution_count": null,
   "id": "d8a88150",
   "metadata": {},
   "outputs": [],
   "source": []
=======
   "cell_type": "markdown",
   "id": "8f377734",
   "metadata": {},
   "source": [
    "# 일반대화CSV 전처리"
   ]
  },
  {
   "cell_type": "code",
   "execution_count": 57,
   "id": "d8a88150",
   "metadata": {},
   "outputs": [
    {
     "name": "stdout",
     "output_type": "stream",
     "text": [
      "'../../dataset/normal_dataset3(일상통화).csv' 파일을 성공적으로 불러왔습니다. (총 481302개 행)\n",
      "--------------------------------------------------\n",
      "--------------------------------------------------\n",
      "▶ 메시지 총 길이가 1000자 이하인 데이터(file_name 기준)의 개수:  242개\n",
      "--------------------------------------------------\n",
      "글자 길이 기준으로 데이터셋을 샘플링합니다...\n",
      "\n",
      "▶ 최종 샘플링된 데이터셋 정보:\n",
      " - 500자 이하 (100% 샘플링): 197개\n",
      " - 500~1000자 (100% 샘플링): 45개\n",
      " - 1000자 초과 (20% 샘플링): 196개\n",
      "▶ 총 file_name 개수:  438개\n",
      "▶ 최종 데이터셋의 행 개수:  98900개\n",
      "--------------------------------------------------\n",
      "▶ 최종 데이터셋 미리보기 (상위 5개 행):\n",
      "\n",
      "                                           file_name category subcategory  \\\n",
      "0  2_0005G2A6_0001G2A3_T1_2D06T0219C000009_000111...       실내          기쁨   \n",
      "1  2_0005G2A6_0001G2A3_T1_2D06T0219C000009_000111...       실내          기쁨   \n",
      "2  2_0005G2A6_0001G2A3_T1_2D06T0219C000009_000111...       실내          없음   \n",
      "3  2_0005G2A6_0001G2A3_T1_2D06T0219C000009_000111...       실내          기쁨   \n",
      "4  2_0005G2A6_0001G2A3_T1_2D06T0219C000009_000111...       실내          기쁨   \n",
      "\n",
      "   spk                   msg  \n",
      "0    0                  여보세요  \n",
      "1    1            여보세요 안녕하세요  \n",
      "2    0            여보세요 안녕하세요  \n",
      "3    0  여보세요?여보세요 안녕하세요 여보세요  \n",
      "4    1            여보세요 안녕하세요  \n",
      "\n",
      "▶ 최종 데이터셋이 ' ../../dataset/일상통화정제_데이터셋.csv' 파일로 성공적으로 저장되었습니다.\n"
     ]
    }
   ],
   "source": [
    "import pandas as pd\n",
    "from pathlib import Path\n",
    "\n",
    "try:\n",
    "    file_path = \"../../dataset/normal_dataset3(일상통화).csv\"\n",
    "    df = pd.read_csv(file_path, encoding=\"utf-8\")\n",
    "    print(f\"'{file_path}' 파일을 성공적으로 불러왔습니다. (총 {len(df)}개 행)\")\n",
    "    print(\"-\" * 50)\n",
    "\n",
    "    msg_lengths = df.groupby(\"file_name\")[\"msg\"].apply(\n",
    "        lambda x: len(\"\".join(str(s) for s in x))\n",
    "    )\n",
    "    print(\"-\" * 50)\n",
    "\n",
    "    count_under_1000 = msg_lengths[msg_lengths <= 1000].shape[0]\n",
    "    print(\n",
    "        f\"▶ 메시지 총 길이가 1000자 이하인 데이터(file_name 기준)의 개수:  {count_under_1000}개\"\n",
    "    )\n",
    "    print(\"--------------------------------------------------\")\n",
    "\n",
    "    print(\"글자 길이 기준으로 데이터셋을 샘플링합니다...\")\n",
    "    short_files = msg_lengths[msg_lengths <= 500].index\n",
    "    medium_files = msg_lengths[(msg_lengths > 500) & (msg_lengths <= 1000)].index\n",
    "    long_files = msg_lengths[msg_lengths > 1000].index\n",
    "\n",
    "    short_sample = short_files.to_series().sample(frac=1, random_state=42)\n",
    "    medium_sample = medium_files.to_series().sample(frac=1, random_state=42)\n",
    "    long_sample = long_files.to_series().sample(frac=0.2, random_state=42)\n",
    "\n",
    "    final_filenames = pd.concat([short_sample, medium_sample, long_sample]).index\n",
    "\n",
    "    final_df = df[df[\"file_name\"].isin(final_filenames)].reset_index(drop=True)\n",
    "\n",
    "    print(\"\\n▶ 최종 샘플링된 데이터셋 정보:\")\n",
    "    print(f\" - 500자 이하 (100% 샘플링): {len(short_sample)}개\")\n",
    "    print(f\" - 500~1000자 (100% 샘플링): {len(medium_sample)}개\")\n",
    "    print(f\" - 1000자 초과 (20% 샘플링): {len(long_sample)}개\")\n",
    "    print(f\"▶ 총 file_name 개수:  {len(final_filenames)}개\")\n",
    "    print(f\"▶ 최종 데이터셋의 행 개수:  {len(final_df)}개\")\n",
    "    print(\"--------------------------------------------------\")\n",
    "\n",
    "    print(\"▶ 최종 데이터셋 미리보기 (상위 5개 행):\\n\")\n",
    "    print(final_df.head())\n",
    "\n",
    "\n",
    "except FileNotFoundError:\n",
    "    print(f\"오류: '{file_path}' 파일을 찾을 수 없습니다.\")\n",
    "    print(\"파일 경로를 다시 확인해주세요.\")\n",
    "except Exception as e:\n",
    "    print(f\"작업 중 오류가 발생했습니다: {e}\")\n",
    "\n",
    "# --- 7. 최종 데이터셋을 CSV 파일로 저장 ---\n",
    "output_csv_path = \"../../dataset/일상통화정제_데이터셋.csv\"\n",
    "try:\n",
    "    final_df.to_csv(output_csv_path, index=False, encoding=\"utf-8-sig\")\n",
    "    print(f\"\\n▶ 최종 데이터셋이 ' {output_csv_path}' 파일로 성공적으로 저장되었습니다.\")\n",
    "except Exception as e:\n",
    "    print(f\"\\n오류: 최종 데이터셋 저장 중 문제가 발생했습니다: {e}\")"
   ]
  },
  {
   "cell_type": "markdown",
   "id": "48216776",
   "metadata": {},
   "source": [
    "# 콜센터CSV 전처리"
   ]
  },
  {
   "cell_type": "code",
   "execution_count": 60,
   "id": "3b57e490",
   "metadata": {},
   "outputs": [
    {
     "name": "stdout",
     "output_type": "stream",
     "text": [
      "'../../dataset/normal_dataset(콜센터).csv' 파일을 성공적으로 불러왔습니다. (총 4426586개 행)\n",
      "--------------------------------------------------\n",
      "file_name 별로 메시지 길이를 계산합니다...\n",
      "--------------------------------------------------\n",
      "▶ 메시지 총 길이가 1000자 이하인 데이터(file_name 기준)의 개수:  12116개\n",
      "--------------------------------------------------\n",
      "글자 길이 기준으로 데이터셋을 샘플링합니다...\n",
      "\n",
      "▶ 최종 샘플링된 데이터셋 정보:\n",
      " - 500자 이하 (100% 샘플링): 6016개\n",
      " - 500~1000자 (100% 샘플링): 6100개\n",
      " - 1000자 초과 (20% 샘플링): 5243개\n",
      "▶ 총 file_name 개수:  17359개\n",
      "▶ 최종 데이터셋의 행 개수:  1027455개\n",
      "--------------------------------------------------\n",
      "▶ 최종 데이터셋 미리보기 (상위 5개 행):\n",
      "\n",
      "      file_name category subcategory  spk  \\\n",
      "0  S000007.json       교육        공부방법    1   \n",
      "1  S000007.json       민원        일반행정    3   \n",
      "2  S000007.json       민원        일반행정    2   \n",
      "3  S000007.json       민원        일반행정    2   \n",
      "4  S000007.json       민원        일반행정    3   \n",
      "\n",
      "                                                 msg  \n",
      "0  네. 네. 요고는 인제 앞 전에 있는 예약 문의 건들이 다 통화 완료되시면 (())...  \n",
      "1                                          네, 안녕하세요?  \n",
      "2                                          예, 안녕하세요?  \n",
      "3             o/ 대학 졸업 증명서나 성적 증명서 저기 발급 뭐 받을 수 있나요?  \n",
      "4  o/ 대학교 졸업 지금 필요하신 서류가 대학교 졸업 증명서와 성적 증명서가 필요하시...  \n",
      "\n",
      "▶ 최종 데이터셋이 ' ../../dataset/콜센터정제_데이터셋.csv' 파일로 성공적으로 저장되었습니다.\n"
     ]
    }
   ],
   "source": [
    "import pandas as pd\n",
    "\n",
    "# --- 1. 파일 불러오기 ---\n",
    "try:\n",
    "    # 파일 경로 지정\n",
    "    file_path = \"../../dataset/normal_dataset(콜센터).csv\"\n",
    "    # CSV 파일을 DataFrame으로 읽어오기 (encoding을 'utf-8'로 지정)\n",
    "    df = pd.read_csv(file_path, encoding=\"utf-8\")\n",
    "    print(f\"'{file_path}' 파일을 성공적으로 불러왔습니다. (총 {len(df)}개 행)\")\n",
    "    print(\"-\" * 50)\n",
    "\n",
    "    # --- 2. file_name 기준으로 msg 길이 계산 ---\n",
    "    print(\"file_name 별로 메시지 길이를 계산합니다...\")\n",
    "    msg_lengths = df.groupby(\"file_name\")[\"msg\"].apply(\n",
    "        lambda x: len(\"\".join(str(s) for s in x))\n",
    "    )\n",
    "    print(\"-\" * 50)\n",
    "\n",
    "    # --- 3. 1000자 이하 데이터 개수 구하기 ---\n",
    "    count_under_1000 = msg_lengths[msg_lengths <= 1000].shape[0]\n",
    "    print(\n",
    "        f\"▶ 메시지 총 길이가 1000자 이하인 데이터(file_name 기준)의 개수:  {count_under_1000}개\"\n",
    "    )\n",
    "    print(\"--------------------------------------------------\")\n",
    "\n",
    "    print(\"글자 길이 기준으로 데이터셋을 샘플링합니다...\")\n",
    "    short_files = msg_lengths[msg_lengths <= 500].index\n",
    "    medium_files = msg_lengths[(msg_lengths > 500) & (msg_lengths <= 1000)].index\n",
    "    long_files = msg_lengths[msg_lengths > 1000].index\n",
    "\n",
    "    short_sample = short_files.to_series().sample(frac=1, random_state=42)\n",
    "    medium_sample = medium_files.to_series().sample(frac=1, random_state=42)\n",
    "    long_sample = long_files.to_series().sample(frac=0.2, random_state=42)\n",
    "\n",
    "    final_filenames = pd.concat([short_sample, medium_sample, long_sample]).index\n",
    "\n",
    "    final_df = df[df[\"file_name\"].isin(final_filenames)].reset_index(drop=True)\n",
    "\n",
    "    print(\"\\n▶ 최종 샘플링된 데이터셋 정보:\")\n",
    "    print(f\" - 500자 이하 (100% 샘플링): {len(short_sample)}개\")\n",
    "    print(f\" - 500~1000자 (100% 샘플링): {len(medium_sample)}개\")\n",
    "    print(f\" - 1000자 초과 (20% 샘플링): {len(long_sample)}개\")\n",
    "    print(f\"▶ 총 file_name 개수:  {len(final_filenames)}개\")\n",
    "    print(f\"▶ 최종 데이터셋의 행 개수:  {len(final_df)}개\")\n",
    "    print(\"--------------------------------------------------\")\n",
    "\n",
    "    print(\"▶ 최종 데이터셋 미리보기 (상위 5개 행):\\n\")\n",
    "    print(final_df.head())\n",
    "\n",
    "\n",
    "except FileNotFoundError:\n",
    "    print(f\"오류: '{file_path}' 파일을 찾을 수 없습니다.\")\n",
    "    print(\"파일 경로를 다시 확인해주세요.\")\n",
    "except Exception as e:\n",
    "    print(f\"작업 중 오류가 발생했습니다: {e}\")\n",
    "\n",
    "# --- 7. 최종 데이터셋을 CSV 파일로 저장 ---\n",
    "output_csv_path = \"../../dataset/콜센터정제_데이터셋.csv\"\n",
    "try:\n",
    "    final_df.to_csv(output_csv_path, index=False, encoding=\"utf-8-sig\")\n",
    "    print(\n",
    "        f\"\\n▶ 최종 데이터셋이 ' {output_csv_path}' 파일로 성공적으로 저장되었습니다.\"\n",
    "    )\n",
    "except Exception as e:\n",
    "    print(f\"\\n오류: 최종 데이터셋 저장 중 문제가 발생했습니다: {e}\")\n"
   ]
  },
  {
   "cell_type": "markdown",
   "id": "de1b4c37",
   "metadata": {},
   "source": [
    "# 공감형대화CSV 전처리"
   ]
  },
  {
   "cell_type": "code",
   "execution_count": 62,
   "id": "b50a9cf6",
   "metadata": {},
   "outputs": [
    {
     "name": "stdout",
     "output_type": "stream",
     "text": [
      "'../../dataset/normal_dataset2(공감형대화).csv' 파일을 성공적으로 불러왔습니다. (총 377177개 행)\n",
      "--------------------------------------------------\n",
      "file_name 별로 메시지 길이를 계산합니다...\n",
      "--------------------------------------------------\n",
      "▶ 메시지 총 길이가 1000자 초과인 데이터(file_name 기준)의 개수:  17995개\n",
      "--------------------------------------------------\n",
      "글자 길이 기준으로 데이터셋을 샘플링합니다...\n",
      "\n",
      "▶ 최종 샘플링된 데이터셋 정보:\n",
      " - 500자 이하 (100% 샘플링): 11개\n",
      " - 500~1000자 (100% 샘플링): 7450개\n",
      " - 1000자 초과 (20% 샘플링): 3599개\n",
      "▶ 총 file_name 개수:  11060개\n",
      "▶ 최종 데이터셋의 행 개수:  163618개\n",
      "--------------------------------------------------\n",
      "▶ 최종 데이터셋 미리보기 (상위 5개 행):\n",
      "\n",
      "                   file_name category subcategory  spk  \\\n",
      "0  Empathy_기쁨_부모자녀_조손_1.json       기쁨     부모자녀/조손    0   \n",
      "1  Empathy_기쁨_부모자녀_조손_1.json       기쁨     부모자녀/조손    1   \n",
      "2  Empathy_기쁨_부모자녀_조손_1.json       기쁨     부모자녀/조손    0   \n",
      "3  Empathy_기쁨_부모자녀_조손_1.json       기쁨     부모자녀/조손    1   \n",
      "4  Empathy_기쁨_부모자녀_조손_1.json       기쁨     부모자녀/조손    0   \n",
      "\n",
      "                                                 msg  \n",
      "0  엄마, 학교에서 성적이 나왔는데 꽤 만족스러워요. 빨리 이 점수를 엄마 눈으로 확인...  \n",
      "1  성적 나오자마자 학교에서 연락한 거 보니 점수가 좋은가 보다. 네가 들떠있는 것 같...  \n",
      "2  점수가 많이 향상됐다고 담임 선생님께 칭찬받았어요. 그러니까 더 만족스럽고 기분이 ...  \n",
      "3  칭찬은 누구든 마음이 기쁨의 춤을 추게 하지. 노력의 결과에 칭찬받게 되면 앞으로 ...  \n",
      "4  더구나 많은 친구 앞에서 칭찬해 주시는데 부끄러우면서도 마음에 자신감이 붙더라고요....  \n",
      "\n",
      "▶ 최종 데이터셋이 ' ../../dataset/공감형대화정제_데이터셋.csv' 파일로 성공적으로 저장되었습니다.\n"
     ]
    }
   ],
   "source": [
    "import pandas as pd\n",
    "\n",
    "# --- 1. 파일 불러오기 ---\n",
    "try:\n",
    "    # 파일 경로 지정\n",
    "    file_path = \"../../dataset/normal_dataset2(공감형대화).csv\"\n",
    "    # CSV 파일을 DataFrame으로 읽어오기 (encoding을 'utf-8'로 지정)\n",
    "    df = pd.read_csv(file_path, encoding=\"utf-8\")\n",
    "    print(f\"'{file_path}' 파일을 성공적으로 불러왔습니다. (총 {len(df)}개 행)\")\n",
    "    print(\"-\" * 50)\n",
    "\n",
    "    # --- 2. file_name 기준으로 msg 길이 계산 ---\n",
    "    print(\"file_name 별로 메시지 길이를 계산합니다...\")\n",
    "    msg_lengths = df.groupby(\"file_name\")[\"msg\"].apply(\n",
    "        lambda x: len(\"\".join(str(s) for s in x))\n",
    "    )\n",
    "    print(\"-\" * 50)\n",
    "\n",
    "    # --- 3. 1000자 이하 데이터 개수 구하기 ---\n",
    "    count_upper_1000 = msg_lengths[msg_lengths > 1000].shape[0]\n",
    "    print(\n",
    "        f\"▶ 메시지 총 길이가 1000자 초과인 데이터(file_name 기준)의 개수:  {count_upper_1000}개\"\n",
    "    )\n",
    "    print(\"--------------------------------------------------\")\n",
    "\n",
    "    print(\"글자 길이 기준으로 데이터셋을 샘플링합니다...\")\n",
    "    short_files = msg_lengths[msg_lengths <= 500].index\n",
    "    medium_files = msg_lengths[(msg_lengths > 500) & (msg_lengths <= 1000)].index\n",
    "    long_files = msg_lengths[msg_lengths > 1000].index\n",
    "\n",
    "    short_sample = short_files.to_series().sample(frac=1, random_state=42)\n",
    "    medium_sample = medium_files.to_series().sample(frac=1, random_state=42)\n",
    "    long_sample = long_files.to_series().sample(frac=0.2, random_state=42)\n",
    "\n",
    "    final_filenames = pd.concat([short_sample, medium_sample, long_sample]).index\n",
    "\n",
    "    final_df = df[df[\"file_name\"].isin(final_filenames)].reset_index(drop=True)\n",
    "\n",
    "    print(\"\\n▶ 최종 샘플링된 데이터셋 정보:\")\n",
    "    print(f\" - 500자 이하 (100% 샘플링): {len(short_sample)}개\")\n",
    "    print(f\" - 500~1000자 (100% 샘플링): {len(medium_sample)}개\")\n",
    "    print(f\" - 1000자 초과 (20% 샘플링): {len(long_sample)}개\")\n",
    "    print(f\"▶ 총 file_name 개수:  {len(final_filenames)}개\")\n",
    "    print(f\"▶ 최종 데이터셋의 행 개수:  {len(final_df)}개\")\n",
    "    print(\"--------------------------------------------------\")\n",
    "\n",
    "    print(\"▶ 최종 데이터셋 미리보기 (상위 5개 행):\\n\")\n",
    "    print(final_df.head())\n",
    "\n",
    "\n",
    "except FileNotFoundError:\n",
    "    print(f\"오류: '{file_path}' 파일을 찾을 수 없습니다.\")\n",
    "    print(\"파일 경로를 다시 확인해주세요.\")\n",
    "except Exception as e:\n",
    "    print(f\"작업 중 오류가 발생했습니다: {e}\")\n",
    "\n",
    "# --- 7. 최종 데이터셋을 CSV 파일로 저장 ---\n",
    "output_csv_path = \"../../dataset/공감형대화정제_데이터셋.csv\"\n",
    "try:\n",
    "    final_df.to_csv(output_csv_path, index=False, encoding=\"utf-8-sig\")\n",
    "    print(\n",
    "        f\"\\n▶ 최종 데이터셋이 ' {output_csv_path}' 파일로 성공적으로 저장되었습니다.\"\n",
    "    )\n",
    "except Exception as e:\n",
    "    print(f\"\\n오류: 최종 데이터셋 저장 중 문제가 발생했습니다: {e}\")\n"
   ]
  },
  {
   "cell_type": "markdown",
   "id": "07c0b056",
   "metadata": {},
   "source": [
    "# 일반 통화 데이터셋으로 통합"
   ]
  },
  {
   "cell_type": "code",
   "execution_count": null,
   "id": "0aaf0b60",
   "metadata": {},
   "outputs": [],
   "source": [
    "import pandas as pd\n",
    "import os\n",
    "\n",
    "# 이 스크립트 파일의 위치(dataset_create/Woojae)를 기준으로 상위 폴더로 이동하여\n",
    "# 프로젝트의 루트 디렉토리 경로를 계산합니다.\n",
    "# os.path.dirname(__file__)는 현재 파일의 디렉토리 경로를 반환합니다.\n",
    "# '..'는 상위 디렉토리를 의미합니다.\n",
    "project_root = os.path.abspath(os.path.join(os.path.dirname(__file__), \"..\", \"..\"))\n",
    "\n",
    "# 데이터셋 파일들이 있는 디렉토리 경로를 설정합니다.\n",
    "dataset_dir = os.path.join(project_root, \"dataset\")\n",
    "\n",
    "# 병합할 파일들의 전체 경로 리스트를 만듭니다.\n",
    "files_to_merge = [\n",
    "    os.path.join(dataset_dir, \"공감형대화정제_데이터셋.csv\"),\n",
    "    os.path.join(dataset_dir, \"일상통화정제_데이터셋.csv\"),\n",
    "    os.path.join(dataset_dir, \"콜센터정제_데이터셋.csv\"),\n",
    "]\n",
    "\n",
    "# 병합 후 저장될 파일의 전체 경로를 설정합니다.\n",
    "output_file = os.path.join(dataset_dir, \"일반통화대화통합.csv\")\n",
    "\n",
    "# 각 파일을 읽어와 DataFrame으로 변환한 뒤, 리스트에 저장합니다.\n",
    "df_list = []\n",
    "\n",
    "for file in files_to_merge:\n",
    "    try:\n",
    "        # CSV 파일을 읽어옵니다.\n",
    "        df = pd.read_csv(file)\n",
    "        # 'spk' 컬럼은 'speaker'로, 'msg' 컬럼은 'text'로 이름을 변경합니다.\n",
    "        df_renamed = df.rename(columns={\"spk\": \"speaker\", \"msg\": \"text\"})\n",
    "        # 처리된 DataFrame을 리스트에 추가합니다.\n",
    "        df_list.append(df_renamed)\n",
    "        print(f\"성공적으로 파일을 읽고 컬럼명을 변경했습니다: {os.path.basename(file)}\")\n",
    "    except FileNotFoundError:\n",
    "        print(f\"파일을 찾을 수 없습니다: {file}\")\n",
    "    except Exception as e:\n",
    "        print(f\"파일 처리 중 오류 발생 {file}: {e}\")\n",
    "\n",
    "# 리스트에 DataFrame이 하나 이상 있을 경우에만 병합을 진행합니다.\n",
    "if df_list:\n",
    "    # 리스트에 있는 모든 DataFrame을 하나로 병합합니다.\n",
    "    # ignore_index=True는 기존 인덱스를 무시하고 새로운 인덱스를 생성하는 옵션입니다.\n",
    "    merged_df = pd.concat(df_list, ignore_index=True)\n",
    "\n",
    "    # 병합된 DataFrame을 새로운 CSV 파일로 저장합니다.\n",
    "    # index=False는 DataFrame의 인덱스를 파일에 쓰지 않는 옵션입니다.\n",
    "    # encoding='utf-8-sig'는 한글 깨짐을 방지하기 위한 설정입니다.\n",
    "    merged_df.to_csv(output_file, index=False, encoding=\"utf-8-sig\")\n",
    "    print(f\"\\n성공적으로 파일들을 병합하여 다음 경로에 저장했습니다: {output_file}\")\n",
    "else:\n",
    "    print(\"\\n병합할 파일이 없습니다.\")"
   ]
>>>>>>> ddf91fa048d35a4ac935fe2ebcebf5ee89bcb4f5
  }
 ],
 "metadata": {
  "kernelspec": {
   "display_name": "woogawooga_project",
   "language": "python",
   "name": "python3"
  },
  "language_info": {
   "codemirror_mode": {
    "name": "ipython",
    "version": 3
   },
   "file_extension": ".py",
   "mimetype": "text/x-python",
   "name": "python",
   "nbconvert_exporter": "python",
   "pygments_lexer": "ipython3",
   "version": "3.10.16"
  }
 },
 "nbformat": 4,
 "nbformat_minor": 5
}
