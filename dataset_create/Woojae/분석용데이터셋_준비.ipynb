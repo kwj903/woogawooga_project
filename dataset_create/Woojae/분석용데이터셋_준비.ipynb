{
 "cells": [
  {
   "cell_type": "markdown",
   "id": "e4a64004",
   "metadata": {},
   "source": [
    "# 1. 학습용 데이터셋 준비"
   ]
  },
  {
   "cell_type": "code",
   "execution_count": null,
   "id": "6516346a",
   "metadata": {},
   "outputs": [],
   "source": [
    "import pandas as pd\n",
    "\n",
    "# 파일 경로\n",
    "phishing_path = \"../../dataset/phishing_total-0716_0945.csv\"\n",
    "general_path = \"../../dataset/normal_비율맞춘_학습데이터셋.csv\"  # 일반 통화 데이터셋 파일명에 맞게 수정\n",
    "\n",
    "# 데이터 불러오기\n",
    "phishing_df = pd.read_csv(phishing_path)\n",
    "general_df = pd.read_csv(general_path)\n",
    "\n",
    "# is_phishing 컬럼 추가\n",
    "phishing_df[\"is_phishing\"] = 1\n",
    "general_df[\"is_phishing\"] = 0\n",
    "\n",
    "# 컬럼 일치 여부 확인 후, 필요한 컬럼만 맞춰서 선택 (예: speaker, text 등)\n",
    "# 공통 컬럼으로 정렬 (추가 컬럼이 있어도 무방하되, 학습 시 정제 필요)\n",
    "common_columns = list(set(phishing_df.columns).intersection(set(general_df.columns)))\n",
    "phishing_df = phishing_df[common_columns]\n",
    "general_df = general_df[common_columns]\n",
    "\n",
    "# 합치기\n",
    "total_df = pd.concat([phishing_df, general_df], ignore_index=True)\n",
    "\n",
    "# 결과 저장 (선택)\n",
    "total_df.to_csv(\"../../dataset/merged_labeled_data.csv\", index=False)\n",
    "\n",
    "print(\"✅ is_phishing 컬럼 추가 및 병합 완료!\")"
   ]
  },
  {
   "cell_type": "markdown",
   "id": "fcb2dc1b",
   "metadata": {},
   "source": [
    "# 2. 토큰화 및 키워드 추출할 데이터셋 준비"
   ]
  },
  {
   "cell_type": "markdown",
   "id": "9571ee31",
   "metadata": {},
   "source": [
    "## 2.1.토큰화 할 데이터셋 적절하게 다듬기"
   ]
  },
  {
   "cell_type": "markdown",
   "id": "da6f849f",
   "metadata": {},
   "source": [
    "### 2.1.1 보이스피싱데이터의 phishing_type 세금환급형 -> 기관사칭형으로 바꾸기"
   ]
  },
  {
   "cell_type": "code",
   "execution_count": 2,
   "id": "3f33d14a",
   "metadata": {},
   "outputs": [],
   "source": [
    "import pandas as pd\n",
    "\n",
    "# CSV 파일 불러오기\n",
    "df = pd.read_csv(\"../../dataset/phishing_total.csv\")\n",
    "\n",
    "# phishing_type 컬럼에서 '세금환급형'을 '기관사칭형'으로 변경\n",
    "df[\"phishing_type\"] = df[\"phishing_type\"].replace(\"세금환급형\", \"기관사칭형\")\n",
    "\n",
    "# 저장\n",
    "df.to_csv(\"../../dataset/phishing_total_세금기관변환_0716.csv\", index=False)"
   ]
  },
  {
   "cell_type": "markdown",
   "id": "a68131dd",
   "metadata": {},
   "source": [
    "### 2.1.2 보이스피싱 데이터셋의 file_name을 file_id로 바꾸고 is_phishing컬럼을 추가하여 값을 1로 추가 후 같은 file_id의 모든 text 합치기."
   ]
  },
  {
   "cell_type": "code",
   "execution_count": null,
   "id": "39ece8d1",
   "metadata": {},
   "outputs": [
    {
     "name": "stdout",
     "output_type": "stream",
     "text": [
      "        file_id phishing_type  speaker  \\\n",
      "0  phishing_000       가족지인사칭형        0   \n",
      "1  phishing_000       가족지인사칭형        1   \n",
      "2  phishing_000       가족지인사칭형        0   \n",
      "3  phishing_000       가족지인사칭형        1   \n",
      "4  phishing_000       가족지인사칭형        0   \n",
      "\n",
      "                                     text  is_phishing  \n",
      "0                      여보세요, OOO야. 나 아빠야.            1  \n",
      "1                       아빠? 목소리가 좀 이상한데요.            1  \n",
      "2  아빠 핸드폰이 고장 나서 친구 폰으로 걸었어. 급하게 돈이 필요해서.            1  \n",
      "3                         무슨 일인데 그렇게 급해요?            1  \n",
      "4      교통사고가 나서 병원비가 필요해. 믿고 바로 보내줄 수 있지?            1  \n"
     ]
    }
   ],
   "source": [
    "# file_name → file_id 로 컬럼명 변경\n",
    "df.rename(columns={\"file_name\": \"file_id\"}, inplace=True)\n",
    "\n",
    "# is_phishing 컬럼 추가 (값은 모두 1)\n",
    "df[\"is_phishing\"] = 1\n",
    "\n",
    "# speaker 컬럼 삭제\n",
    "df = df.drop(columns=[\"speaker\"])\n",
    "\n",
    "# 같은 file_id 별로 text 합치기 (그 외 컬럼은 첫 번째 값 사용)\n",
    "aggregated_df = (\n",
    "    df.groupby(\"file_id\")\n",
    "    .agg(\n",
    "        {\n",
    "            \"phishing_type\": \"first\",  # 그룹 내 첫번째 phishing_type 사용\n",
    "            \"text\": \" \".join,  # 텍스트를 공백으로 연결\n",
    "            \"is_phishing\": \"first\",\n",
    "        }\n",
    "    )\n",
    "    .reset_index()\n",
    ")\n",
    "print(df.head())"
   ]
  },
  {
   "cell_type": "code",
   "execution_count": 4,
   "id": "cb182798",
   "metadata": {},
   "outputs": [],
   "source": [
    "df = df.drop(columns=[\"speaker\"])"
   ]
  },
  {
   "cell_type": "code",
   "execution_count": 5,
   "id": "8da229ce",
   "metadata": {},
   "outputs": [
    {
     "data": {
      "text/html": [
       "<div>\n",
       "<style scoped>\n",
       "    .dataframe tbody tr th:only-of-type {\n",
       "        vertical-align: middle;\n",
       "    }\n",
       "\n",
       "    .dataframe tbody tr th {\n",
       "        vertical-align: top;\n",
       "    }\n",
       "\n",
       "    .dataframe thead th {\n",
       "        text-align: right;\n",
       "    }\n",
       "</style>\n",
       "<table border=\"1\" class=\"dataframe\">\n",
       "  <thead>\n",
       "    <tr style=\"text-align: right;\">\n",
       "      <th></th>\n",
       "      <th>file_id</th>\n",
       "      <th>phishing_type</th>\n",
       "      <th>text</th>\n",
       "      <th>is_phishing</th>\n",
       "    </tr>\n",
       "  </thead>\n",
       "  <tbody>\n",
       "    <tr>\n",
       "      <th>0</th>\n",
       "      <td>phishing_000</td>\n",
       "      <td>가족지인사칭형</td>\n",
       "      <td>여보세요, OOO야. 나 아빠야.</td>\n",
       "      <td>1</td>\n",
       "    </tr>\n",
       "    <tr>\n",
       "      <th>1</th>\n",
       "      <td>phishing_000</td>\n",
       "      <td>가족지인사칭형</td>\n",
       "      <td>아빠? 목소리가 좀 이상한데요.</td>\n",
       "      <td>1</td>\n",
       "    </tr>\n",
       "    <tr>\n",
       "      <th>2</th>\n",
       "      <td>phishing_000</td>\n",
       "      <td>가족지인사칭형</td>\n",
       "      <td>아빠 핸드폰이 고장 나서 친구 폰으로 걸었어. 급하게 돈이 필요해서.</td>\n",
       "      <td>1</td>\n",
       "    </tr>\n",
       "    <tr>\n",
       "      <th>3</th>\n",
       "      <td>phishing_000</td>\n",
       "      <td>가족지인사칭형</td>\n",
       "      <td>무슨 일인데 그렇게 급해요?</td>\n",
       "      <td>1</td>\n",
       "    </tr>\n",
       "    <tr>\n",
       "      <th>4</th>\n",
       "      <td>phishing_000</td>\n",
       "      <td>가족지인사칭형</td>\n",
       "      <td>교통사고가 나서 병원비가 필요해. 믿고 바로 보내줄 수 있지?</td>\n",
       "      <td>1</td>\n",
       "    </tr>\n",
       "    <tr>\n",
       "      <th>...</th>\n",
       "      <td>...</td>\n",
       "      <td>...</td>\n",
       "      <td>...</td>\n",
       "      <td>...</td>\n",
       "    </tr>\n",
       "    <tr>\n",
       "      <th>44514</th>\n",
       "      <td>phishing_2045</td>\n",
       "      <td>대출빙자형</td>\n",
       "      <td>지금바로 통화 가능하신가요?</td>\n",
       "      <td>1</td>\n",
       "    </tr>\n",
       "    <tr>\n",
       "      <th>44515</th>\n",
       "      <td>phishing_2045</td>\n",
       "      <td>대출빙자형</td>\n",
       "      <td>네 지금 업무시간이라서 원래 휴대폰 못만지는데 바로 연락 받겠습니다</td>\n",
       "      <td>1</td>\n",
       "    </tr>\n",
       "    <tr>\n",
       "      <th>44516</th>\n",
       "      <td>phishing_2045</td>\n",
       "      <td>대출빙자형</td>\n",
       "      <td>네 알겠습니다</td>\n",
       "      <td>1</td>\n",
       "    </tr>\n",
       "    <tr>\n",
       "      <th>44517</th>\n",
       "      <td>phishing_2045</td>\n",
       "      <td>대출빙자형</td>\n",
       "      <td>네</td>\n",
       "      <td>1</td>\n",
       "    </tr>\n",
       "    <tr>\n",
       "      <th>44518</th>\n",
       "      <td>phishing_2046</td>\n",
       "      <td>대출빙자형</td>\n",
       "      <td>지금 고객님께서 저희 집 전산에서 이사하는데 평가 부분만 좀 확인 되시면 처음 받아...</td>\n",
       "      <td>1</td>\n",
       "    </tr>\n",
       "  </tbody>\n",
       "</table>\n",
       "<p>44519 rows × 4 columns</p>\n",
       "</div>"
      ],
      "text/plain": [
       "             file_id phishing_type  \\\n",
       "0       phishing_000       가족지인사칭형   \n",
       "1       phishing_000       가족지인사칭형   \n",
       "2       phishing_000       가족지인사칭형   \n",
       "3       phishing_000       가족지인사칭형   \n",
       "4       phishing_000       가족지인사칭형   \n",
       "...              ...           ...   \n",
       "44514  phishing_2045         대출빙자형   \n",
       "44515  phishing_2045         대출빙자형   \n",
       "44516  phishing_2045         대출빙자형   \n",
       "44517  phishing_2045         대출빙자형   \n",
       "44518  phishing_2046         대출빙자형   \n",
       "\n",
       "                                                    text  is_phishing  \n",
       "0                                     여보세요, OOO야. 나 아빠야.            1  \n",
       "1                                      아빠? 목소리가 좀 이상한데요.            1  \n",
       "2                 아빠 핸드폰이 고장 나서 친구 폰으로 걸었어. 급하게 돈이 필요해서.            1  \n",
       "3                                        무슨 일인데 그렇게 급해요?            1  \n",
       "4                     교통사고가 나서 병원비가 필요해. 믿고 바로 보내줄 수 있지?            1  \n",
       "...                                                  ...          ...  \n",
       "44514                                    지금바로 통화 가능하신가요?            1  \n",
       "44515              네 지금 업무시간이라서 원래 휴대폰 못만지는데 바로 연락 받겠습니다            1  \n",
       "44516                                            네 알겠습니다            1  \n",
       "44517                                                  네            1  \n",
       "44518  지금 고객님께서 저희 집 전산에서 이사하는데 평가 부분만 좀 확인 되시면 처음 받아...            1  \n",
       "\n",
       "[44519 rows x 4 columns]"
      ]
     },
     "execution_count": 5,
     "metadata": {},
     "output_type": "execute_result"
    }
   ],
   "source": [
    "df"
   ]
  },
  {
   "cell_type": "code",
   "execution_count": 6,
   "id": "dade70fb",
   "metadata": {},
   "outputs": [],
   "source": [
    "aggregated_df.to_csv(\"phishing_total_grouped.csv\", index=False)"
   ]
  },
  {
   "cell_type": "markdown",
   "id": "11775bdf",
   "metadata": {},
   "source": [
    "### 2.2.1 일반통화 데이터셋 토큰화시킬 수 있는 상태까지 전처리하기"
   ]
  },
  {
   "cell_type": "code",
   "execution_count": 7,
   "id": "bedd9028",
   "metadata": {},
   "outputs": [],
   "source": [
    "df_normal = pd.read_csv(\"../../dataset/normal_비율맞춘_학습데이터셋.csv\")\n",
    "# is_phishing 컬럼 추가 (값은 모두 0)\n",
    "df_normal[\"is_phishing\"] = 0\n",
    "# file_id 컬럼 추가 (file_name에서 file_id로 변경)\n",
    "df_normal.rename(columns={\"file_name\": \"file_id\"}, inplace=True)\n",
    "# speaker 컬럼 삭제\n",
    "df_normal = df_normal.drop(columns=[\"speaker\"])\n",
    "# 같은 file_id 별로 text 합치기 (그 외 컬럼은 첫 번째 값 사용)\n",
    "aggregated_normal_df = (\n",
    "    df_normal.groupby(\"file_id\")\n",
    "    .agg(\n",
    "        {\n",
    "            \"text\": \" \".join,  # 텍스트를 공백으로 연결\n",
    "            \"is_phishing\": \"first\",\n",
    "        }\n",
    "    )\n",
    "    .reset_index()\n",
    ")\n",
    "# 저장\n",
    "df_normal.to_csv(\"../../dataset/normal_비율맞춘_학습데이터셋_완성본.csv\", index=False)\n",
    "\n"
   ]
  },
  {
   "cell_type": "markdown",
   "id": "f8633e1c",
   "metadata": {},
   "source": [
    "## 2.3 두 데이터프레임 합치기"
   ]
  },
  {
   "cell_type": "code",
   "execution_count": 8,
   "id": "d5c0b8da",
   "metadata": {},
   "outputs": [],
   "source": [
    "# 두 데이터프레임 합치기\n",
    "merged_df = pd.concat([aggregated_df, aggregated_normal_df], ignore_index=True)\n",
    "merged_df.to_csv(\"../../dataset/merged_labeled_data.csv\", index=False)"
   ]
  },
  {
   "cell_type": "code",
   "execution_count": 9,
   "id": "36552eba",
   "metadata": {},
   "outputs": [
    {
     "name": "stdout",
     "output_type": "stream",
     "text": [
      "<class 'pandas.core.frame.DataFrame'>\n",
      "RangeIndex: 8047 entries, 0 to 8046\n",
      "Data columns (total 4 columns):\n",
      " #   Column         Non-Null Count  Dtype \n",
      "---  ------         --------------  ----- \n",
      " 0   file_id        8047 non-null   object\n",
      " 1   phishing_type  2047 non-null   object\n",
      " 2   text           8047 non-null   object\n",
      " 3   is_phishing    8047 non-null   int64 \n",
      "dtypes: int64(1), object(3)\n",
      "memory usage: 251.6+ KB\n"
     ]
    }
   ],
   "source": [
    "merged_df.info()"
   ]
  },
  {
   "cell_type": "code",
   "execution_count": null,
   "id": "f4249b96",
   "metadata": {},
   "outputs": [],
   "source": []
  }
 ],
 "metadata": {
  "kernelspec": {
   "display_name": "woogawooga_project",
   "language": "python",
   "name": "python3"
  },
  "language_info": {
   "codemirror_mode": {
    "name": "ipython",
    "version": 3
   },
   "file_extension": ".py",
   "mimetype": "text/x-python",
   "name": "python",
   "nbconvert_exporter": "python",
   "pygments_lexer": "ipython3",
   "version": "3.10.16"
  }
 },
 "nbformat": 4,
 "nbformat_minor": 5
}
