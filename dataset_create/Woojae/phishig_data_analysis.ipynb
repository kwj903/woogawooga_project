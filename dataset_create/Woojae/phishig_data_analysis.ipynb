{
 "cells": [
  {
   "cell_type": "code",
   "execution_count": 1,
   "id": "d1b3a984",
   "metadata": {},
   "outputs": [],
   "source": [
    "import pandas as pd\n",
    "import seaborn as sns\n",
    "import matplotlib.pyplot as plt\n",
    "import koreanize_matplotlib  # 한글 폰트 깨짐 방지\n",
    "import os\n",
    "import numpy as np\n",
    "\n",
    "pd.set_option(\"display.max_rows\", 200)\n",
    "pd.set_option(\"display.max_rows\", None)  # 행 전부 보기\n",
    "pd.set_option(\"display.max_columns\", None)  # 열 전부 보기\n",
    "pd.set_option(\"display.width\", 1000)  # 가로 폭 조절"
   ]
  },
  {
   "cell_type": "code",
   "execution_count": 2,
   "id": "544f9b0e",
   "metadata": {},
   "outputs": [],
   "source": [
    "file_path = os.path.join(\"../../dataset\", \"phishing_data.csv\")\n",
    "df = pd.read_csv(file_path)"
   ]
  },
  {
   "cell_type": "code",
   "execution_count": 3,
   "id": "f7a2a1de",
   "metadata": {},
   "outputs": [
    {
     "name": "stdout",
     "output_type": "stream",
     "text": [
      "<class 'pandas.core.frame.DataFrame'>\n",
      "RangeIndex: 44519 entries, 0 to 44518\n",
      "Data columns (total 4 columns):\n",
      " #   Column         Non-Null Count  Dtype \n",
      "---  ------         --------------  ----- \n",
      " 0   file_name      44519 non-null  object\n",
      " 1   phishing_type  44519 non-null  object\n",
      " 2   speaker        44519 non-null  int64 \n",
      " 3   text           44519 non-null  object\n",
      "dtypes: int64(1), object(3)\n",
      "memory usage: 1.4+ MB\n"
     ]
    }
   ],
   "source": [
    "df.info()"
   ]
  },
  {
   "cell_type": "code",
   "execution_count": null,
   "id": "8bca2ca1",
   "metadata": {},
   "outputs": [],
   "source": [
    "from konlpy.tag import Kkma\n",
    "\n",
    "# 형태소 분석기 객체 생성\n",
    "kkma = Kkma()\n",
    "\n",
    "\n",
    "# 형태소 분석 함수 (불용어 제거 없이 주요 품사만 필터링)\n",
    "def kkma_tokenizer(text):\n",
    "    try:\n",
    "        tokens = kkma.pos(text)\n",
    "        # 명사(NNG, NNP), 동사(VV), 형용사(VA)만 추출\n",
    "        keywords = [word for word, tag in tokens if tag in [\"NNG\", \"NNP\", \"VV\", \"VA\"]]\n",
    "        keywords = [word for word in keywords if word != \"OOO\"]\n",
    "        return keywords if keywords else [\"없음\"]\n",
    "    except:\n",
    "        return [\"오류\"]\n",
    "\n",
    "\n",
    "# 적용\n",
    "df[\"kkma_tokens\"] = df[\"text\"].apply(kkma_tokenizer)\n",
    "\n",
    "# 결과 출력\n",
    "# print(df)"
   ]
  },
  {
   "cell_type": "code",
   "execution_count": null,
   "id": "615bd215",
   "metadata": {},
   "outputs": [],
   "source": [
    "from collections import Counter\n",
    "import pandas as pd\n",
    "\n",
    "# 모든 키워드를 하나의 리스트로 합치기\n",
    "all_keywords = sum(df[\"kkma_tokens\"], [])  # 리스트 안 리스트를 평탄화\n",
    "\n",
    "# 키워드 등장 빈도수 계산\n",
    "keyword_counter = Counter(all_keywords)\n",
    "\n",
    "# Counter → DataFrame 변환\n",
    "keyword_freq_df = pd.DataFrame(\n",
    "    keyword_counter.items(), columns=[\"keyword\", \"frequency\"]\n",
    ")\n",
    "\n",
    "# 내림차순 정렬\n",
    "keyword_freq_df = keyword_freq_df.sort_values(\n",
    "    by=\"frequency\", ascending=False\n",
    ").reset_index(drop=True)\n",
    "\n",
    "# 출력\n",
    "# print(keyword_freq_df)\n",
    "# 상위 700개 키워드만 추출\n",
    "top_700_keywords = keyword_freq_df.head(700)\n",
    "\n",
    "# 결과 확인\n",
    "print(top_700_keywords)"
   ]
  },
  {
   "cell_type": "code",
   "execution_count": null,
   "id": "e9a4ce5b",
   "metadata": {},
   "outputs": [],
   "source": [
    "# top_700_keywords를 CSV 파일로 저장\n",
    "top_700_keywords.to_csv(\"phishing_top_700_keywords.csv\", index=False, encoding=\"utf-8-sig\")"
   ]
  }
 ],
 "metadata": {
  "kernelspec": {
   "display_name": "woogawooga-project",
   "language": "python",
   "name": "python3"
  },
  "language_info": {
   "codemirror_mode": {
    "name": "ipython",
    "version": 3
   },
   "file_extension": ".py",
   "mimetype": "text/x-python",
   "name": "python",
   "nbconvert_exporter": "python",
   "pygments_lexer": "ipython3",
   "version": "3.10.16"
  }
 },
 "nbformat": 4,
 "nbformat_minor": 5
}
