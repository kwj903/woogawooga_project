{
 "cells": [
  {
   "cell_type": "markdown",
   "id": "718748f2",
   "metadata": {},
   "source": [
    "# 테스트 전 토큰화 함수 및 임폴트"
   ]
  },
  {
   "cell_type": "code",
   "execution_count": 1,
   "id": "51529be4",
   "metadata": {},
   "outputs": [],
   "source": [
    "import pandas as pd  # ✅ pandas 누락\n",
    "from kiwipiepy import Kiwi  # ✅ kiwi 토크나이저\n",
    "import joblib  # ✅ 모델 불러오기\n",
    "\n",
    "# ✅ tokenizer 함수 정의\n",
    "kiwi = Kiwi()\n",
    "\n",
    "\n",
    "def tokenize_and_filter(text):\n",
    "    result = kiwi.analyze(text)[0][0]\n",
    "    tokens = []\n",
    "    for word, pos, _, _ in result:\n",
    "        if pos in {\"NNG\", \"NNP\", \"VV\", \"VA\"}:\n",
    "            if pos in {\"VV\", \"VA\"}:\n",
    "                word = word + \"다\"\n",
    "            tokens.append(word)\n",
    "    return \" \".join(tokens)"
   ]
  },
  {
   "cell_type": "markdown",
   "id": "087b00bb",
   "metadata": {},
   "source": [
    "# 앙상블 Stacking 테스트"
   ]
  },
  {
   "cell_type": "code",
   "execution_count": 3,
   "id": "b82ea261",
   "metadata": {},
   "outputs": [
    {
     "name": "stdout",
     "output_type": "stream",
     "text": [
      "              precision    recall  f1-score   support\n",
      "\n",
      "           0       0.90      1.00      0.95       500\n",
      "           1       1.00      0.89      0.94       500\n",
      "\n",
      "    accuracy                           0.94      1000\n",
      "   macro avg       0.95      0.95      0.94      1000\n",
      "weighted avg       0.95      0.94      0.94      1000\n",
      "\n"
     ]
    }
   ],
   "source": [
    "from sklearn.metrics import classification_report\n",
    "\n",
    "# 테스트셋 불러오기\n",
    "test_df = pd.read_csv(\"../../dataset/1차모델_테스트데이터셋.csv\")  # 실제 경로로 바꿔줘\n",
    "test_df[\"processed_text\"] = test_df[\"text\"].astype(str).apply(tokenize_and_filter)\n",
    "\n",
    "X_test = test_df[\"processed_text\"]\n",
    "y_test = test_df[\"is_phishing\"]\n",
    "\n",
    "# 저장된 모델 불러오기\n",
    "import joblib\n",
    "\n",
    "model = joblib.load(\"../../models/pipeline_stacking.pkl\")\n",
    "\n",
    "# 예측 및 성능 확인\n",
    "y_pred_test = model.predict(X_test)\n",
    "print(classification_report(y_test, y_pred_test))"
   ]
  },
  {
   "cell_type": "code",
   "execution_count": null,
   "id": "08aab929",
   "metadata": {},
   "outputs": [],
   "source": []
  }
 ],
 "metadata": {
  "kernelspec": {
   "display_name": "woogawooga_project",
   "language": "python",
   "name": "python3"
  },
  "language_info": {
   "codemirror_mode": {
    "name": "ipython",
    "version": 3
   },
   "file_extension": ".py",
   "mimetype": "text/x-python",
   "name": "python",
   "nbconvert_exporter": "python",
   "pygments_lexer": "ipython3",
   "version": "3.10.16"
  }
 },
 "nbformat": 4,
 "nbformat_minor": 5
}
