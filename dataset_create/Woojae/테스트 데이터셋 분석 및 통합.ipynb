{
 "cells": [
  {
   "cell_type": "code",
   "execution_count": 1,
   "id": "de1993c8",
   "metadata": {},
   "outputs": [],
   "source": [
    "import pandas as pd"
   ]
  },
  {
   "cell_type": "code",
   "execution_count": 3,
   "id": "c7cff586",
   "metadata": {},
   "outputs": [
    {
     "name": "stdout",
     "output_type": "stream",
     "text": [
      "   file_name phishing_type  speaker                  text\n",
      "0          0         대출빙자형        0  예 고객님 담당자 김성도 대리입니다.\n",
      "1          0         대출빙자형        1                     예\n",
      "2          0         대출빙자형        0   지금 법무사님이 두분 배정되셨어요.\n",
      "3          0         대출빙자형        1                   네 네\n",
      "4          0         대출빙자형        0      네 네 지금 뭐 입증되십니까? \n",
      "\n",
      "                                           file_name  \\\n",
      "0                                       S034634.json   \n",
      "1                                       S026202.json   \n",
      "2                                       S025682.json   \n",
      "3  2_0382G2A5_0383G2A5_T2_2D02T0053C000005_001445...   \n",
      "4                                       S026932.json   \n",
      "\n",
      "                                                text  text_length length_bin  \n",
      "0       가능하시고 삼성이랑 현대. 예, 알겠습니다. 네, 감사합니다. 네, 감사합니다.           44       0~99  \n",
      "1  네 다시 전화해서, o/그 배송비 부분 다시 결제하고 취소 받으면 된다 이거죠. 네...           93       0~99  \n",
      "2    실례지만 아이디가 어떻게 되실까요? o/ 핸드폰 번호 아실까요? o/ 예 감사합니다.           47       0~99  \n",
      "3  안녕하세요 예 안 하세요 잘 들립니까 네 잘 들립니다 오늘 대하 주제가 그 추천 음악으로           49       0~99  \n",
      "4                       o/아 됐어요? 네 감사합니다. o/네 감사합니다.           28       0~99   \n",
      "\n"
     ]
    }
   ],
   "source": [
    "file_path1 = \"../../dataset/보이스피싱_testset_500_test.csv\"\n",
    "file_path2 = \"../../dataset/일반통화_테스트셋_500건.csv\"\n",
    "df1 = pd.read_csv(file_path1)\n",
    "df2 = pd.read_csv(file_path2)\n",
    "print(df1.head(5), \"\\n\")\n",
    "print(df2.head(5), \"\\n\")\n"
   ]
  },
  {
   "cell_type": "code",
   "execution_count": 4,
   "id": "b316c6c1",
   "metadata": {},
   "outputs": [
    {
     "name": "stdout",
     "output_type": "stream",
     "text": [
      "<class 'pandas.core.frame.DataFrame'>\n",
      "RangeIndex: 12154 entries, 0 to 12153\n",
      "Data columns (total 4 columns):\n",
      " #   Column         Non-Null Count  Dtype \n",
      "---  ------         --------------  ----- \n",
      " 0   file_name      12154 non-null  int64 \n",
      " 1   phishing_type  12154 non-null  object\n",
      " 2   speaker        12154 non-null  int64 \n",
      " 3   text           12154 non-null  object\n",
      "dtypes: int64(2), object(2)\n",
      "memory usage: 379.9+ KB\n",
      "<class 'pandas.core.frame.DataFrame'>\n",
      "RangeIndex: 500 entries, 0 to 499\n",
      "Data columns (total 4 columns):\n",
      " #   Column       Non-Null Count  Dtype \n",
      "---  ------       --------------  ----- \n",
      " 0   file_name    500 non-null    object\n",
      " 1   text         500 non-null    object\n",
      " 2   text_length  500 non-null    int64 \n",
      " 3   length_bin   500 non-null    object\n",
      "dtypes: int64(1), object(3)\n",
      "memory usage: 15.8+ KB\n",
      "None None\n"
     ]
    }
   ],
   "source": [
    "print(df1.info(), df2.info())"
   ]
  },
  {
   "cell_type": "code",
   "execution_count": 7,
   "id": "6f489320",
   "metadata": {},
   "outputs": [
    {
     "name": "stdout",
     "output_type": "stream",
     "text": [
      "   file_name                                               text\n",
      "0          0  예 고객님 담당자 김성도 대리입니다.예지금 법무사님이 두분 배정되셨어요.네 네네 네...\n",
      "1          2  6시 되가지고 전화 해봤습니다.예 예 그 앞전에 이면주 법무사님 영수증 확인되셨는데...\n",
      "2          3  네 네 네 여보세요네 네어디에 계시는 겁니까 지금네?지금 어디 계시는 거예요방금 나...\n",
      "3          5  여보세요예 여보세요. 네 감사과장 박철민 과장입니다.예아 OOO고객님 맞으시죠?예아...\n",
      "4          6  신한은행 정부지원자금으로 마이너스 통장 계좌 통합 가능하십니다. 마이너스 통장 발급...\n"
     ]
    }
   ],
   "source": [
    "df1_mergeText = df1.groupby(\"file_name\")[\"text\"].apply(\"\".join).reset_index()\n",
    "print(df1_mergeText.head(5))"
   ]
  },
  {
   "cell_type": "code",
   "execution_count": 9,
   "id": "9290421f",
   "metadata": {},
   "outputs": [
    {
     "name": "stdout",
     "output_type": "stream",
     "text": [
      "500\n",
      "500\n"
     ]
    }
   ],
   "source": [
    "print(df1_mergeText[\"file_name\"].nunique())\n",
    "print(df2[\"file_name\"].nunique())"
   ]
  },
  {
   "cell_type": "code",
   "execution_count": 10,
   "id": "324971d9",
   "metadata": {},
   "outputs": [],
   "source": [
    "# is_phishing 컬럼 추가\n",
    "df1_mergeText[\"is_phishing\"] = 1\n",
    "df2[\"is_phishing\"] = 0"
   ]
  },
  {
   "cell_type": "code",
   "execution_count": 11,
   "id": "af73c65e",
   "metadata": {},
   "outputs": [
    {
     "data": {
      "text/html": [
       "<div>\n",
       "<style scoped>\n",
       "    .dataframe tbody tr th:only-of-type {\n",
       "        vertical-align: middle;\n",
       "    }\n",
       "\n",
       "    .dataframe tbody tr th {\n",
       "        vertical-align: top;\n",
       "    }\n",
       "\n",
       "    .dataframe thead th {\n",
       "        text-align: right;\n",
       "    }\n",
       "</style>\n",
       "<table border=\"1\" class=\"dataframe\">\n",
       "  <thead>\n",
       "    <tr style=\"text-align: right;\">\n",
       "      <th></th>\n",
       "      <th>file_name</th>\n",
       "      <th>text</th>\n",
       "      <th>is_phishing</th>\n",
       "    </tr>\n",
       "  </thead>\n",
       "  <tbody>\n",
       "    <tr>\n",
       "      <th>0</th>\n",
       "      <td>0</td>\n",
       "      <td>예 고객님 담당자 김성도 대리입니다.예지금 법무사님이 두분 배정되셨어요.네 네네 네...</td>\n",
       "      <td>1</td>\n",
       "    </tr>\n",
       "    <tr>\n",
       "      <th>1</th>\n",
       "      <td>2</td>\n",
       "      <td>6시 되가지고 전화 해봤습니다.예 예 그 앞전에 이면주 법무사님 영수증 확인되셨는데...</td>\n",
       "      <td>1</td>\n",
       "    </tr>\n",
       "    <tr>\n",
       "      <th>2</th>\n",
       "      <td>3</td>\n",
       "      <td>네 네 네 여보세요네 네어디에 계시는 겁니까 지금네?지금 어디 계시는 거예요방금 나...</td>\n",
       "      <td>1</td>\n",
       "    </tr>\n",
       "    <tr>\n",
       "      <th>3</th>\n",
       "      <td>5</td>\n",
       "      <td>여보세요예 여보세요. 네 감사과장 박철민 과장입니다.예아 OOO고객님 맞으시죠?예아...</td>\n",
       "      <td>1</td>\n",
       "    </tr>\n",
       "    <tr>\n",
       "      <th>4</th>\n",
       "      <td>6</td>\n",
       "      <td>신한은행 정부지원자금으로 마이너스 통장 계좌 통합 가능하십니다. 마이너스 통장 발급...</td>\n",
       "      <td>1</td>\n",
       "    </tr>\n",
       "  </tbody>\n",
       "</table>\n",
       "</div>"
      ],
      "text/plain": [
       "   file_name                                               text  is_phishing\n",
       "0          0  예 고객님 담당자 김성도 대리입니다.예지금 법무사님이 두분 배정되셨어요.네 네네 네...            1\n",
       "1          2  6시 되가지고 전화 해봤습니다.예 예 그 앞전에 이면주 법무사님 영수증 확인되셨는데...            1\n",
       "2          3  네 네 네 여보세요네 네어디에 계시는 겁니까 지금네?지금 어디 계시는 거예요방금 나...            1\n",
       "3          5  여보세요예 여보세요. 네 감사과장 박철민 과장입니다.예아 OOO고객님 맞으시죠?예아...            1\n",
       "4          6  신한은행 정부지원자금으로 마이너스 통장 계좌 통합 가능하십니다. 마이너스 통장 발급...            1"
      ]
     },
     "execution_count": 11,
     "metadata": {},
     "output_type": "execute_result"
    }
   ],
   "source": [
    "df1_mergeText.head(5)"
   ]
  },
  {
   "cell_type": "code",
   "execution_count": 13,
   "id": "ea6c69c4",
   "metadata": {},
   "outputs": [
    {
     "data": {
      "text/html": [
       "<div>\n",
       "<style scoped>\n",
       "    .dataframe tbody tr th:only-of-type {\n",
       "        vertical-align: middle;\n",
       "    }\n",
       "\n",
       "    .dataframe tbody tr th {\n",
       "        vertical-align: top;\n",
       "    }\n",
       "\n",
       "    .dataframe thead th {\n",
       "        text-align: right;\n",
       "    }\n",
       "</style>\n",
       "<table border=\"1\" class=\"dataframe\">\n",
       "  <thead>\n",
       "    <tr style=\"text-align: right;\">\n",
       "      <th></th>\n",
       "      <th>file_name</th>\n",
       "      <th>text</th>\n",
       "      <th>text_length</th>\n",
       "      <th>length_bin</th>\n",
       "      <th>is_phishing</th>\n",
       "    </tr>\n",
       "  </thead>\n",
       "  <tbody>\n",
       "    <tr>\n",
       "      <th>0</th>\n",
       "      <td>S034634.json</td>\n",
       "      <td>가능하시고 삼성이랑 현대. 예, 알겠습니다. 네, 감사합니다. 네, 감사합니다.</td>\n",
       "      <td>44</td>\n",
       "      <td>0~99</td>\n",
       "      <td>0</td>\n",
       "    </tr>\n",
       "    <tr>\n",
       "      <th>1</th>\n",
       "      <td>S026202.json</td>\n",
       "      <td>네 다시 전화해서, o/그 배송비 부분 다시 결제하고 취소 받으면 된다 이거죠. 네...</td>\n",
       "      <td>93</td>\n",
       "      <td>0~99</td>\n",
       "      <td>0</td>\n",
       "    </tr>\n",
       "    <tr>\n",
       "      <th>2</th>\n",
       "      <td>S025682.json</td>\n",
       "      <td>실례지만 아이디가 어떻게 되실까요? o/ 핸드폰 번호 아실까요? o/ 예 감사합니다.</td>\n",
       "      <td>47</td>\n",
       "      <td>0~99</td>\n",
       "      <td>0</td>\n",
       "    </tr>\n",
       "    <tr>\n",
       "      <th>3</th>\n",
       "      <td>2_0382G2A5_0383G2A5_T2_2D02T0053C000005_001445...</td>\n",
       "      <td>안녕하세요 예 안 하세요 잘 들립니까 네 잘 들립니다 오늘 대하 주제가 그 추천 음악으로</td>\n",
       "      <td>49</td>\n",
       "      <td>0~99</td>\n",
       "      <td>0</td>\n",
       "    </tr>\n",
       "    <tr>\n",
       "      <th>4</th>\n",
       "      <td>S026932.json</td>\n",
       "      <td>o/아 됐어요? 네 감사합니다. o/네 감사합니다.</td>\n",
       "      <td>28</td>\n",
       "      <td>0~99</td>\n",
       "      <td>0</td>\n",
       "    </tr>\n",
       "  </tbody>\n",
       "</table>\n",
       "</div>"
      ],
      "text/plain": [
       "                                           file_name  \\\n",
       "0                                       S034634.json   \n",
       "1                                       S026202.json   \n",
       "2                                       S025682.json   \n",
       "3  2_0382G2A5_0383G2A5_T2_2D02T0053C000005_001445...   \n",
       "4                                       S026932.json   \n",
       "\n",
       "                                                text  text_length length_bin  \\\n",
       "0       가능하시고 삼성이랑 현대. 예, 알겠습니다. 네, 감사합니다. 네, 감사합니다.           44       0~99   \n",
       "1  네 다시 전화해서, o/그 배송비 부분 다시 결제하고 취소 받으면 된다 이거죠. 네...           93       0~99   \n",
       "2    실례지만 아이디가 어떻게 되실까요? o/ 핸드폰 번호 아실까요? o/ 예 감사합니다.           47       0~99   \n",
       "3  안녕하세요 예 안 하세요 잘 들립니까 네 잘 들립니다 오늘 대하 주제가 그 추천 음악으로           49       0~99   \n",
       "4                       o/아 됐어요? 네 감사합니다. o/네 감사합니다.           28       0~99   \n",
       "\n",
       "   is_phishing  \n",
       "0            0  \n",
       "1            0  \n",
       "2            0  \n",
       "3            0  \n",
       "4            0  "
      ]
     },
     "execution_count": 13,
     "metadata": {},
     "output_type": "execute_result"
    }
   ],
   "source": [
    "df2.head(5)"
   ]
  },
  {
   "cell_type": "code",
   "execution_count": 15,
   "id": "04130baa",
   "metadata": {},
   "outputs": [],
   "source": [
    "df1_mergeText[\"file_name\"] = df1_mergeText[\"file_name\"].astype(dtype=object)"
   ]
  },
  {
   "cell_type": "code",
   "execution_count": 16,
   "id": "d3d7130f",
   "metadata": {},
   "outputs": [],
   "source": [
    "common_cols = df1_mergeText.columns.intersection(df2.columns)\n",
    "merged_df = pd.concat([df1_mergeText[common_cols], df2[common_cols]], ignore_index=True)"
   ]
  },
  {
   "cell_type": "code",
   "execution_count": 17,
   "id": "ba7ea82a",
   "metadata": {},
   "outputs": [
    {
     "name": "stdout",
     "output_type": "stream",
     "text": [
      "<class 'pandas.core.frame.DataFrame'>\n",
      "RangeIndex: 1000 entries, 0 to 999\n",
      "Data columns (total 3 columns):\n",
      " #   Column       Non-Null Count  Dtype \n",
      "---  ------       --------------  ----- \n",
      " 0   file_name    1000 non-null   object\n",
      " 1   text         1000 non-null   object\n",
      " 2   is_phishing  1000 non-null   int64 \n",
      "dtypes: int64(1), object(2)\n",
      "memory usage: 23.6+ KB\n"
     ]
    }
   ],
   "source": [
    "merged_df.info()"
   ]
  },
  {
   "cell_type": "code",
   "execution_count": 18,
   "id": "5ea5b908",
   "metadata": {},
   "outputs": [
    {
     "name": "stdout",
     "output_type": "stream",
     "text": [
      "  file_name                                               text  is_phishing\n",
      "0         0  예 고객님 담당자 김성도 대리입니다.예지금 법무사님이 두분 배정되셨어요.네 네네 네...            1\n",
      "1         2  6시 되가지고 전화 해봤습니다.예 예 그 앞전에 이면주 법무사님 영수증 확인되셨는데...            1\n",
      "2         3  네 네 네 여보세요네 네어디에 계시는 겁니까 지금네?지금 어디 계시는 거예요방금 나...            1\n",
      "3         5  여보세요예 여보세요. 네 감사과장 박철민 과장입니다.예아 OOO고객님 맞으시죠?예아...            1\n",
      "4         6  신한은행 정부지원자금으로 마이너스 통장 계좌 통합 가능하십니다. 마이너스 통장 발급...            1\n",
      "        file_name                                               text  \\\n",
      "995  S004202.json  o/ 네, 감사합니다. 네, 확인 감사합니다. 짐 말씀하시는 게 그 합격 수기 앞에...   \n",
      "996  S002948.json  아 네, 메모 가능하십니까 그면은 제가 번호 적을게요. 너무 죄송합니다. 지금 담당...   \n",
      "997  S006736.json  예, 맞습니다. o/ 여권 갱신해도 되는지. 그다음에 수수료 있고. 화요일은 오후 ...   \n",
      "998  S002924.json  네, 잠시만 기다려 주 이게 저희가 지금 바로 처리하는 게 아니고요. o/ 접속이 ...   \n",
      "999  S002169.json  o/ 아니요. 그 안드로이드 해 태블릿이요. 그 오른쪽 상단 부분에 상 그 성함 나...   \n",
      "\n",
      "     is_phishing  \n",
      "995            0  \n",
      "996            0  \n",
      "997            0  \n",
      "998            0  \n",
      "999            0  \n"
     ]
    }
   ],
   "source": [
    "print(merged_df.head(5))\n",
    "print(merged_df.tail(5))"
   ]
  },
  {
   "cell_type": "code",
   "execution_count": 19,
   "id": "b4952c27",
   "metadata": {},
   "outputs": [
    {
     "data": {
      "text/plain": [
       "count    1000.00000\n",
       "mean        0.50000\n",
       "std         0.50025\n",
       "min         0.00000\n",
       "25%         0.00000\n",
       "50%         0.50000\n",
       "75%         1.00000\n",
       "max         1.00000\n",
       "Name: is_phishing, dtype: float64"
      ]
     },
     "execution_count": 19,
     "metadata": {},
     "output_type": "execute_result"
    }
   ],
   "source": [
    "merged_df[\"is_phishing\"].describe()"
   ]
  },
  {
   "cell_type": "code",
   "execution_count": 20,
   "id": "1d89433f",
   "metadata": {},
   "outputs": [
    {
     "name": "stdout",
     "output_type": "stream",
     "text": [
      "\n",
      "▶ 최종 데이터셋이 ' ../../dataset/1차모델_테스트데이터셋.csv' 파일로 성공적으로 저장되었습니다.\n"
     ]
    }
   ],
   "source": [
    "# --- 7. 최종 데이터셋을 CSV 파일로 저장 ---\n",
    "output_csv_path = \"../../dataset/1차모델_테스트데이터셋.csv\"\n",
    "try:\n",
    "    merged_df.to_csv(output_csv_path, index=False, encoding=\"utf-8-sig\")\n",
    "    print(f\"\\n▶ 최종 데이터셋이 ' {output_csv_path}' 파일로 성공적으로 저장되었습니다.\")\n",
    "except Exception as e:\n",
    "    print(f\"\\n오류: 최종 데이터셋 저장 중 문제가 발생했습니다: {e}\")"
   ]
  },
  {
   "cell_type": "code",
   "execution_count": null,
   "id": "c7af3252",
   "metadata": {},
   "outputs": [],
   "source": []
  }
 ],
 "metadata": {
  "kernelspec": {
   "display_name": "woogawooga_project",
   "language": "python",
   "name": "python3"
  },
  "language_info": {
   "codemirror_mode": {
    "name": "ipython",
    "version": 3
   },
   "file_extension": ".py",
   "mimetype": "text/x-python",
   "name": "python",
   "nbconvert_exporter": "python",
   "pygments_lexer": "ipython3",
   "version": "3.10.16"
  }
 },
 "nbformat": 4,
 "nbformat_minor": 5
}
