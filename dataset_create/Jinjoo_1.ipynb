{
 "cells": [
  {
   "cell_type": "code",
   "execution_count": 43,
   "id": "b3832822",
   "metadata": {},
   "outputs": [
    {
     "name": "stdout",
     "output_type": "stream",
     "text": [
      "원본 파일 'github_dataset.csv'을 불러옵니다...\n",
      "\n",
      "✅ 원본 파일 로드 성공!\n",
      "데이터프레임 정보:\n",
      "<class 'pandas.core.frame.DataFrame'>\n",
      "RangeIndex: 2927 entries, 0 to 2926\n",
      "Data columns (total 4 columns):\n",
      " #   Column      Non-Null Count  Dtype  \n",
      "---  ------      --------------  -----  \n",
      " 0   id          2927 non-null   int64  \n",
      " 1   transcript  2927 non-null   object \n",
      " 2   confidence  0 non-null      float64\n",
      " 3   label       2927 non-null   int64  \n",
      "dtypes: float64(1), int64(2), object(1)\n",
      "memory usage: 91.6+ KB\n",
      "\n",
      "전체 행 개수: 2927\n",
      "\n",
      "데이터 미리보기:\n",
      "       id                                         transcript  confidence  \\\n",
      "2922  690  지금까지 사실확인서를 연락드렸습니다. 하고 있는데 이런 사건 때문에 내가 여쭤볼게 ...         NaN   \n",
      "2923  691  연료 데이는 사건 때문에 연락 드렸는데 혹시 김명철씨 가십니까 모르시고 아는 사람도...         NaN   \n",
      "2924  692  4장 4절 일어났습니까? 장소 잡고 님께서는 42세 남성 김동술 알고 계십니까? 아...         NaN   \n",
      "2925  693  네\\n네 여보세요\\n뭐 어디세요?\\n아 네 안녕하세요 저희 그 하나캐피탈에서 연락을...         NaN   \n",
      "2926  694  통장명이 (삐-) 계좌 맞구요? 그리고 통장 발급 일은 2017년 3월 14일입니다...         NaN   \n",
      "\n",
      "      label  \n",
      "2922      1  \n",
      "2923      1  \n",
      "2924      1  \n",
      "2925      1  \n",
      "2926      1  \n"
     ]
    }
   ],
   "source": [
    "import pandas as pd\n",
    "\n",
    "file_name = \"github_dataset.csv\"\n",
    "\n",
    "print(f\"원본 파일 '{file_name}'을 불러옵니다...\")\n",
    "\n",
    "try:\n",
    "    df = pd.read_csv(file_name, engine=\"python\")\n",
    "\n",
    "    print(\"\\n✅ 원본 파일 로드 성공!\")\n",
    "    print(\"데이터프레임 정보:\")\n",
    "    df.info()\n",
    "\n",
    "    print(f\"\\n전체 행 개수: {len(df)}\")\n",
    "    print(\"\\n데이터 미리보기:\")\n",
    "    print(df.tail())\n",
    "\n",
    "except FileNotFoundError:\n",
    "    print(\n",
    "        f\"오류: '{file_name}' 파일을 찾을 수 없습니다. 파일이 코드와 같은 폴더에 있는지 확인해주세요.\"\n",
    "    )\n",
    "except Exception as e:\n",
    "    print(f\"파일을 읽는 중 오류가 발생했습니다: {e}\")"
   ]
  },
  {
   "cell_type": "code",
   "execution_count": 67,
   "id": "5ea8aafd",
   "metadata": {},
   "outputs": [
    {
     "data": {
      "text/plain": [
       "id                                                         2231\n",
       "transcript    저는 학교를 졸업한 지 오래되어서 어~ 기억이 쪼금 먼 기리 멀기는 하지만 어~ 저...\n",
       "confidence                                                  NaN\n",
       "label                                                         0\n",
       "Name: 2231, dtype: object"
      ]
     },
     "execution_count": 67,
     "metadata": {},
     "output_type": "execute_result"
    }
   ],
   "source": [
    "df.iloc[2231]"
   ]
  },
  {
   "cell_type": "code",
   "execution_count": 69,
   "id": "4f43ad85",
   "metadata": {},
   "outputs": [
    {
     "name": "stdout",
     "output_type": "stream",
     "text": [
      "파일을 다음 경로에서 찾습니다: c:\\Users\\user\\Downloads\\woogawooga\\woogawooga_project\\dataset_create\\github_dataset.csv\n",
      "\n",
      "✅ 'github_dataset.csv' 파일을 성공적으로 불러왔습니다. (총 2927개 행)\n",
      "\n",
      " 작업이 완료되었습니다.\n",
      "피싱 데이터가 'phishing_data.csv' 파일로 저장되었습니다. (총 695개 행)\n",
      "일반 데이터가 'normal_data.csv' 파일로 저장되었습니다. (총 2232개 행)\n"
     ]
    }
   ],
   "source": [
    "import pandas as pd\n",
    "import os\n",
    "\n",
    "FILE_TO_READ = \"github_dataset.csv\"\n",
    "PHISHING_ROW_INDICES = list(range(2232, 2927))\n",
    "\n",
    "try:\n",
    "    current_dir = os.getcwd()\n",
    "    file_path = os.path.join(current_dir, FILE_TO_READ)\n",
    "\n",
    "    print(f\"파일을 다음 경로에서 찾습니다: {file_path}\")\n",
    "\n",
    "    df = pd.read_csv(file_path, engine='python')\n",
    "    print(f\"\\n✅ '{FILE_TO_READ}' 파일을 성공적으로 불러왔습니다. (총 {len(df)}개 행)\")\n",
    "\n",
    "    phishing_df = df.iloc[PHISHING_ROW_INDICES].copy()\n",
    "    normal_df = df[~df.index.isin(PHISHING_ROW_INDICES)].copy()\n",
    "\n",
    "    phishing_final_df = phishing_df.rename(columns={\n",
    "        'id': 'file_name',\n",
    "        'confidence': 'phishing_type',\n",
    "        'label': 'speaker',\n",
    "        'transcript': 'text'\n",
    "    })\n",
    "\n",
    "    phishing_final_df = phishing_final_df[['file_name', 'phishing_type', 'speaker', 'text']]\n",
    "\n",
    "\n",
    "    normal_final_df = normal_df.rename(columns={\n",
    "        'id': 'file_name',\n",
    "        'transcript': 'text'\n",
    "    })\n",
    "\n",
    "    normal_final_df = normal_final_df[['file_name', 'text']]\n",
    "\n",
    "    phishing_final_df.to_csv(\"phishing_data.csv\", index=False, encoding=\"utf-8-sig\")\n",
    "    normal_final_df.to_csv(\"normal_data.csv\", index=False, encoding=\"utf-8-sig\")\n",
    "\n",
    "    print(\"\\n 작업이 완료되었습니다.\")\n",
    "    print(\n",
    "        f\"피싱 데이터가 'phishing_data.csv' 파일로 저장되었습니다. (총 {len(phishing_final_df)}개 행)\"\n",
    "    )\n",
    "    print(\n",
    "        f\"일반 데이터가 'normal_data.csv' 파일로 저장되었습니다. (총 {len(normal_final_df)}개 행)\"\n",
    "    )\n",
    "\n",
    "except FileNotFoundError:\n",
    "    print(f\"\\n 오류: '{file_path}' 경로에 파일이 없습니다.\")\n",
    "except IndexError:\n",
    "    print(\n",
    "        f\"\\n 오류: 'PHISHING_ROW_INDICES'에 지정된 행 번호가 실제 파일의 전체 행 수를 벗어났습니다.\"\n",
    "    )\n",
    "except KeyError as e:\n",
    "    print(f\"\\n 오류: '{e}' 컬럼을 찾을 수 없습니다. 원본 파일에 해당 컬럼이 있는지 확인해주세요.\")\n",
    "except Exception as e:\n",
    "    print(f\"오류가 발생했습니다: {e}\")"
   ]
  },
  {
   "cell_type": "code",
   "execution_count": 71,
   "id": "eb467180",
   "metadata": {},
   "outputs": [
    {
     "name": "stdout",
     "output_type": "stream",
     "text": [
      "✅ 작업 완료! 문장 분리 결과 (상위 10개):\n",
      "   file_name                                               text\n",
      "0          0                           저는 여행 다니는 것을 굉장히 좋아하는데요.\n",
      "0          0  그래가지고 스페인이나 뭐 영국 유럽 아니면 국내에서도 뭐 강릉이나 전주 같은 데를 ...\n",
      "0          0        저 여행 다니는 거 되게 좋아해서 대학교 내내 여행을 엄청 많이 다녔었는데요.\n",
      "0          0  제가 고등학교 때는 여행에 대해 흥미가 없었는데 그게 좀 아버지가 짠대로 패키지처럼...\n",
      "0          0  그래서 대학교 간 이후로는 해외여행을 되게 많이 갔었는데 그중에서 제일 기 좋았던 ...\n",
      "0          0                어~ 혹시 포르투갈이나 스페인 유럽 쪽 다녀오신 적 있으신가요?\n",
      "0          0                                              어~ 네.\n",
      "0          0                        저도 우연히 스페인과 포르투갈을 다녀왔었었습니다.\n",
      "0          0  어~ 저는 스페인 중에서도 마드리드에 근교에 있었던 톨레도라는 지역이 굉장히 좋았는데요.\n",
      "0          0  그 톨레도에서 특히 기억에 남았던 거는 거기에 대성당이 있는데 그 성당이 엄청 화려...\n",
      "\n",
      "'sentences_data.csv' 파일로 저장되었습니다.\n"
     ]
    }
   ],
   "source": [
    "import pandas as pd\n",
    "import re\n",
    "\n",
    "try:\n",
    "    df = pd.read_csv(\"normal_data.csv\")\n",
    "except FileNotFoundError:\n",
    "    print(\"오류: 'normal_data.csv' 파일을 찾을 수 없습니다.\")\n",
    "    df = pd.DataFrame()\n",
    "\n",
    "if not df.empty:\n",
    "    df[\"sentences\"] = df[\"text\"].apply(\n",
    "        lambda x: [\n",
    "            s.strip() + d\n",
    "            for s, d in zip(\n",
    "                re.split(r\"([.?!])\", str(x))[:-1:2], re.split(r\"([.?!])\", str(x))[1::2]\n",
    "            )\n",
    "        ]\n",
    "    )\n",
    "\n",
    "    df_exploded = df.explode(\"sentences\")\n",
    "    df_final = df_exploded.drop(columns=[\"text\"]).rename(columns={\"sentences\": \"text\"})\n",
    "    df_final = df_final[[\"file_name\", \"text\"]]\n",
    "    df_final = df_final.dropna(subset=[\"text\"])\n",
    "    df_final = df_final[df_final[\"text\"].str.strip() != \"\"]\n",
    "\n",
    "    print(\"✅ 작업 완료! 문장 분리 결과 (상위 10개):\")\n",
    "    print(df_final.head(10))\n",
    "\n",
    "    df_final.to_csv('sentences_data.csv', index=False, encoding='utf-8-sig')\n",
    "    print(\"\\n'sentences_data.csv' 파일로 저장되었습니다.\")"
   ]
  },
  {
   "cell_type": "code",
   "execution_count": null,
   "id": "37d6b946",
   "metadata": {},
   "outputs": [],
   "source": []
  }
 ],
 "metadata": {
  "kernelspec": {
   "display_name": "woogawooga-project",
   "language": "python",
   "name": "python3"
  },
  "language_info": {
   "codemirror_mode": {
    "name": "ipython",
    "version": 3
   },
   "file_extension": ".py",
   "mimetype": "text/x-python",
   "name": "python",
   "nbconvert_exporter": "python",
   "pygments_lexer": "ipython3",
   "version": "3.10.16"
  }
 },
 "nbformat": 4,
 "nbformat_minor": 5
}
